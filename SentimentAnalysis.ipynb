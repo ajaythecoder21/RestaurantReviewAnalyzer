{
 "metadata": {
  "language_info": {
   "codemirror_mode": {
    "name": "ipython",
    "version": 3
   },
   "file_extension": ".py",
   "mimetype": "text/x-python",
   "name": "python",
   "nbconvert_exporter": "python",
   "pygments_lexer": "ipython3",
   "version": "3.8.3-final"
  },
  "orig_nbformat": 2,
  "kernelspec": {
   "name": "python3",
   "display_name": "Python 3",
   "language": "python"
  }
 },
 "nbformat": 4,
 "nbformat_minor": 2,
 "cells": [
  {
   "cell_type": "code",
   "execution_count": 1,
   "metadata": {},
   "outputs": [],
   "source": [
    "import pandas as pd\n",
    "import numpy as np\n",
    "import matplotlib.pyplot as plt\n",
    "%matplotlib inline"
   ]
  },
  {
   "cell_type": "code",
   "execution_count": 6,
   "metadata": {},
   "outputs": [],
   "source": [
    "df = pd.read_csv(\"RestaurantReviews.csv\")"
   ]
  },
  {
   "cell_type": "code",
   "execution_count": 7,
   "metadata": {},
   "outputs": [
    {
     "output_type": "execute_result",
     "data": {
      "text/plain": [
       "   Unnamed: 0            Restaurant Name  \\\n",
       "0           0    ZuZu at Hotel Valley Ho   \n",
       "1           1            1. Cafe Monarch   \n",
       "2           2          2. Mowry & Cotton   \n",
       "3           3  3. Franco's Italian Caffe   \n",
       "4           4      4. The Capital Grille   \n",
       "\n",
       "                                         Review Text    Type of Restaurant  \n",
       "0                           “Fab Breakfast and Bar!”         American, Bar  \n",
       "1  “... beef tartare, a seafood tower, beet salad...              American  \n",
       "2  “The food was great (try the meatballs) and th...              American  \n",
       "3  “A simple green salad, a glass of red wine and...       Italian, Tuscan  \n",
       "4  “... accompany our great flourless chocolate c...  American, Steakhouse  "
      ],
      "text/html": "<div>\n<style scoped>\n    .dataframe tbody tr th:only-of-type {\n        vertical-align: middle;\n    }\n\n    .dataframe tbody tr th {\n        vertical-align: top;\n    }\n\n    .dataframe thead th {\n        text-align: right;\n    }\n</style>\n<table border=\"1\" class=\"dataframe\">\n  <thead>\n    <tr style=\"text-align: right;\">\n      <th></th>\n      <th>Unnamed: 0</th>\n      <th>Restaurant Name</th>\n      <th>Review Text</th>\n      <th>Type of Restaurant</th>\n    </tr>\n  </thead>\n  <tbody>\n    <tr>\n      <th>0</th>\n      <td>0</td>\n      <td>ZuZu at Hotel Valley Ho</td>\n      <td>“Fab Breakfast and Bar!”</td>\n      <td>American, Bar</td>\n    </tr>\n    <tr>\n      <th>1</th>\n      <td>1</td>\n      <td>1. Cafe Monarch</td>\n      <td>“... beef tartare, a seafood tower, beet salad...</td>\n      <td>American</td>\n    </tr>\n    <tr>\n      <th>2</th>\n      <td>2</td>\n      <td>2. Mowry &amp; Cotton</td>\n      <td>“The food was great (try the meatballs) and th...</td>\n      <td>American</td>\n    </tr>\n    <tr>\n      <th>3</th>\n      <td>3</td>\n      <td>3. Franco's Italian Caffe</td>\n      <td>“A simple green salad, a glass of red wine and...</td>\n      <td>Italian, Tuscan</td>\n    </tr>\n    <tr>\n      <th>4</th>\n      <td>4</td>\n      <td>4. The Capital Grille</td>\n      <td>“... accompany our great flourless chocolate c...</td>\n      <td>American, Steakhouse</td>\n    </tr>\n  </tbody>\n</table>\n</div>"
     },
     "metadata": {},
     "execution_count": 7
    }
   ],
   "source": [
    "df.head()"
   ]
  },
  {
   "cell_type": "code",
   "execution_count": 8,
   "metadata": {},
   "outputs": [],
   "source": [
    "df = df.drop('Unnamed: 0', axis = 1)"
   ]
  },
  {
   "cell_type": "code",
   "execution_count": 9,
   "metadata": {},
   "outputs": [
    {
     "output_type": "execute_result",
     "data": {
      "text/plain": [
       "             Restaurant Name  \\\n",
       "0    ZuZu at Hotel Valley Ho   \n",
       "1            1. Cafe Monarch   \n",
       "2          2. Mowry & Cotton   \n",
       "3  3. Franco's Italian Caffe   \n",
       "4      4. The Capital Grille   \n",
       "\n",
       "                                         Review Text    Type of Restaurant  \n",
       "0                           “Fab Breakfast and Bar!”         American, Bar  \n",
       "1  “... beef tartare, a seafood tower, beet salad...              American  \n",
       "2  “The food was great (try the meatballs) and th...              American  \n",
       "3  “A simple green salad, a glass of red wine and...       Italian, Tuscan  \n",
       "4  “... accompany our great flourless chocolate c...  American, Steakhouse  "
      ],
      "text/html": "<div>\n<style scoped>\n    .dataframe tbody tr th:only-of-type {\n        vertical-align: middle;\n    }\n\n    .dataframe tbody tr th {\n        vertical-align: top;\n    }\n\n    .dataframe thead th {\n        text-align: right;\n    }\n</style>\n<table border=\"1\" class=\"dataframe\">\n  <thead>\n    <tr style=\"text-align: right;\">\n      <th></th>\n      <th>Restaurant Name</th>\n      <th>Review Text</th>\n      <th>Type of Restaurant</th>\n    </tr>\n  </thead>\n  <tbody>\n    <tr>\n      <th>0</th>\n      <td>ZuZu at Hotel Valley Ho</td>\n      <td>“Fab Breakfast and Bar!”</td>\n      <td>American, Bar</td>\n    </tr>\n    <tr>\n      <th>1</th>\n      <td>1. Cafe Monarch</td>\n      <td>“... beef tartare, a seafood tower, beet salad...</td>\n      <td>American</td>\n    </tr>\n    <tr>\n      <th>2</th>\n      <td>2. Mowry &amp; Cotton</td>\n      <td>“The food was great (try the meatballs) and th...</td>\n      <td>American</td>\n    </tr>\n    <tr>\n      <th>3</th>\n      <td>3. Franco's Italian Caffe</td>\n      <td>“A simple green salad, a glass of red wine and...</td>\n      <td>Italian, Tuscan</td>\n    </tr>\n    <tr>\n      <th>4</th>\n      <td>4. The Capital Grille</td>\n      <td>“... accompany our great flourless chocolate c...</td>\n      <td>American, Steakhouse</td>\n    </tr>\n  </tbody>\n</table>\n</div>"
     },
     "metadata": {},
     "execution_count": 9
    }
   ],
   "source": [
    "df.head()"
   ]
  },
  {
   "cell_type": "code",
   "execution_count": 12,
   "metadata": {},
   "outputs": [],
   "source": [
    "# Data Preprocessing\n",
    "#df['Restaurant Name'] = df['Restaurant Name'].replace(str(df.index) + '.', '')\n"
   ]
  },
  {
   "cell_type": "code",
   "execution_count": 27,
   "metadata": {},
   "outputs": [
    {
     "output_type": "execute_result",
     "data": {
      "text/plain": [
       "             Restaurant Name  \\\n",
       "0    ZuZu at Hotel Valley Ho   \n",
       "1            1. Cafe Monarch   \n",
       "2          2. Mowry & Cotton   \n",
       "3  3. Franco's Italian Caffe   \n",
       "4      4. The Capital Grille   \n",
       "\n",
       "                                         Review Text    Type of Restaurant  \n",
       "0                           “Fab Breakfast and Bar!”         American, Bar  \n",
       "1  “... beef tartare, a seafood tower, beet salad...              American  \n",
       "2  “The food was great (try the meatballs) and th...              American  \n",
       "3  “A simple green salad, a glass of red wine and...       Italian, Tuscan  \n",
       "4  “... accompany our great flourless chocolate c...  American, Steakhouse  "
      ],
      "text/html": "<div>\n<style scoped>\n    .dataframe tbody tr th:only-of-type {\n        vertical-align: middle;\n    }\n\n    .dataframe tbody tr th {\n        vertical-align: top;\n    }\n\n    .dataframe thead th {\n        text-align: right;\n    }\n</style>\n<table border=\"1\" class=\"dataframe\">\n  <thead>\n    <tr style=\"text-align: right;\">\n      <th></th>\n      <th>Restaurant Name</th>\n      <th>Review Text</th>\n      <th>Type of Restaurant</th>\n    </tr>\n  </thead>\n  <tbody>\n    <tr>\n      <th>0</th>\n      <td>ZuZu at Hotel Valley Ho</td>\n      <td>“Fab Breakfast and Bar!”</td>\n      <td>American, Bar</td>\n    </tr>\n    <tr>\n      <th>1</th>\n      <td>1. Cafe Monarch</td>\n      <td>“... beef tartare, a seafood tower, beet salad...</td>\n      <td>American</td>\n    </tr>\n    <tr>\n      <th>2</th>\n      <td>2. Mowry &amp; Cotton</td>\n      <td>“The food was great (try the meatballs) and th...</td>\n      <td>American</td>\n    </tr>\n    <tr>\n      <th>3</th>\n      <td>3. Franco's Italian Caffe</td>\n      <td>“A simple green salad, a glass of red wine and...</td>\n      <td>Italian, Tuscan</td>\n    </tr>\n    <tr>\n      <th>4</th>\n      <td>4. The Capital Grille</td>\n      <td>“... accompany our great flourless chocolate c...</td>\n      <td>American, Steakhouse</td>\n    </tr>\n  </tbody>\n</table>\n</div>"
     },
     "metadata": {},
     "execution_count": 27
    }
   ],
   "source": [
    "df.head()"
   ]
  },
  {
   "cell_type": "code",
   "execution_count": 26,
   "metadata": {},
   "outputs": [
    {
     "output_type": "execute_result",
     "data": {
      "text/plain": [
       "0                         ZuZu at Hotel Valley Ho\n",
       "1                                 1. Cafe Monarch\n",
       "2                               2. Mowry & Cotton\n",
       "3                       3. Franco's Italian Caffe\n",
       "4                           4. The Capital Grille\n",
       "                                  ...            \n",
       "26. HIRO Sushi                         .HIROSushi\n",
       "27. Cornish Pasty Co              .CornishPastyCo\n",
       "28. Postino Winebar               .PostinoWinebar\n",
       "29. Daily Dose                         .DailyDose\n",
       "30. FnB                                      .FnB\n",
       "Name: Restaurant Name, Length: 64, dtype: object"
      ]
     },
     "metadata": {},
     "execution_count": 26
    }
   ],
   "source": [
    "import nltk\n",
    "\n",
    "for i in df['Restaurant Name']:\n",
    "   a = nltk.word_tokenize(i)   \n",
    "   #print(a)\n",
    "   if str(a[0]).isnumeric():\n",
    "       a = a[1:]\n",
    "       i = ''.join(a)\n",
    "df['Restaurant Name']"
   ]
  },
  {
   "cell_type": "code",
   "execution_count": 42,
   "metadata": {},
   "outputs": [
    {
     "output_type": "execute_result",
     "data": {
      "text/plain": [
       "0                       ZuZu at Hotel Valley Ho\n",
       "1                                  Cafe Monarch\n",
       "2                                Mowry & Cotton\n",
       "3                        Franco's Italian Caffe\n",
       "4                            The Capital Grille\n",
       "5                   Butterfield's Pancake House\n",
       "6                              JOJO Coffeehouse\n",
       "7                                        Craft \n",
       "8                                         Virtu\n",
       "9                          Rehab Burger Therapy\n",
       "10                      Butters Pancakes & Cafe\n",
       "11                   Grassroots Kitchen and Tap\n",
       "12                                       Steak \n",
       "13     Elements at Sanctuary Camelback Mountain\n",
       "14                       Roka Akor - Scottsdale\n",
       "15                                        deseo\n",
       "16                      Eddie V's Prime Seafood\n",
       "17                        Dominick's Steakhouse\n",
       "18                            True Food Kitchen\n",
       "19                          Snooze an AM Eatery\n",
       "20                Mastro's City Hall Steakhouse\n",
       "21                                  Perk Eatery\n",
       "22                         Citizen Public House\n",
       "23                                     Talavera\n",
       "24                          Tutti Santi By Nina\n",
       "25                               Breakfast Club\n",
       "26        Prado at Omni Montelucia Resort & Spa\n",
       "27                                   HIRO Sushi\n",
       "28                             Cornish Pasty Co\n",
       "29                              Postino Winebar\n",
       "30                                   Daily Dose\n",
       "31                                          FnB\n",
       "Name: Restaurant Name, dtype: object"
      ]
     },
     "metadata": {},
     "execution_count": 42
    }
   ],
   "source": [
    "#some_name = str(df.index) + '.'\n",
    "#if df['Restaurant Name'].str.contains('123.'):\n",
    "df['Restaurant Name'] = df['Restaurant Name'].str.strip('123456789101112131415161718192021222324252627282930.')\n",
    "    #print(i.loc['Restaurant Name'])\n",
    "    #print('Hi')\n",
    "df['Restaurant Name']\n"
   ]
  },
  {
   "cell_type": "code",
   "execution_count": 43,
   "metadata": {},
   "outputs": [
    {
     "output_type": "execute_result",
     "data": {
      "text/plain": [
       "           Restaurant Name                                        Review Text  \\\n",
       "0  ZuZu at Hotel Valley Ho                           “Fab Breakfast and Bar!”   \n",
       "1             Cafe Monarch  “... beef tartare, a seafood tower, beet salad...   \n",
       "2           Mowry & Cotton  “The food was great (try the meatballs) and th...   \n",
       "3   Franco's Italian Caffe  “A simple green salad, a glass of red wine and...   \n",
       "4       The Capital Grille  “... accompany our great flourless chocolate c...   \n",
       "\n",
       "     Type of Restaurant  \n",
       "0         American, Bar  \n",
       "1              American  \n",
       "2              American  \n",
       "3       Italian, Tuscan  \n",
       "4  American, Steakhouse  "
      ],
      "text/html": "<div>\n<style scoped>\n    .dataframe tbody tr th:only-of-type {\n        vertical-align: middle;\n    }\n\n    .dataframe tbody tr th {\n        vertical-align: top;\n    }\n\n    .dataframe thead th {\n        text-align: right;\n    }\n</style>\n<table border=\"1\" class=\"dataframe\">\n  <thead>\n    <tr style=\"text-align: right;\">\n      <th></th>\n      <th>Restaurant Name</th>\n      <th>Review Text</th>\n      <th>Type of Restaurant</th>\n    </tr>\n  </thead>\n  <tbody>\n    <tr>\n      <th>0</th>\n      <td>ZuZu at Hotel Valley Ho</td>\n      <td>“Fab Breakfast and Bar!”</td>\n      <td>American, Bar</td>\n    </tr>\n    <tr>\n      <th>1</th>\n      <td>Cafe Monarch</td>\n      <td>“... beef tartare, a seafood tower, beet salad...</td>\n      <td>American</td>\n    </tr>\n    <tr>\n      <th>2</th>\n      <td>Mowry &amp; Cotton</td>\n      <td>“The food was great (try the meatballs) and th...</td>\n      <td>American</td>\n    </tr>\n    <tr>\n      <th>3</th>\n      <td>Franco's Italian Caffe</td>\n      <td>“A simple green salad, a glass of red wine and...</td>\n      <td>Italian, Tuscan</td>\n    </tr>\n    <tr>\n      <th>4</th>\n      <td>The Capital Grille</td>\n      <td>“... accompany our great flourless chocolate c...</td>\n      <td>American, Steakhouse</td>\n    </tr>\n  </tbody>\n</table>\n</div>"
     },
     "metadata": {},
     "execution_count": 43
    }
   ],
   "source": [
    "df.head()"
   ]
  },
  {
   "cell_type": "code",
   "execution_count": 51,
   "metadata": {},
   "outputs": [
    {
     "output_type": "execute_result",
     "data": {
      "text/plain": [
       "{'a',\n",
       " 'about',\n",
       " 'above',\n",
       " 'after',\n",
       " 'again',\n",
       " 'against',\n",
       " 'ain',\n",
       " 'all',\n",
       " 'am',\n",
       " 'an',\n",
       " 'and',\n",
       " 'any',\n",
       " 'are',\n",
       " 'aren',\n",
       " \"aren't\",\n",
       " 'as',\n",
       " 'at',\n",
       " 'be',\n",
       " 'because',\n",
       " 'been',\n",
       " 'before',\n",
       " 'being',\n",
       " 'below',\n",
       " 'between',\n",
       " 'both',\n",
       " 'but',\n",
       " 'by',\n",
       " 'can',\n",
       " 'couldn',\n",
       " \"couldn't\",\n",
       " 'd',\n",
       " 'did',\n",
       " 'didn',\n",
       " \"didn't\",\n",
       " 'do',\n",
       " 'does',\n",
       " 'doesn',\n",
       " \"doesn't\",\n",
       " 'doing',\n",
       " 'don',\n",
       " \"don't\",\n",
       " 'down',\n",
       " 'during',\n",
       " 'each',\n",
       " 'few',\n",
       " 'for',\n",
       " 'from',\n",
       " 'further',\n",
       " 'had',\n",
       " 'hadn',\n",
       " \"hadn't\",\n",
       " 'has',\n",
       " 'hasn',\n",
       " \"hasn't\",\n",
       " 'have',\n",
       " 'haven',\n",
       " \"haven't\",\n",
       " 'having',\n",
       " 'he',\n",
       " 'her',\n",
       " 'here',\n",
       " 'hers',\n",
       " 'herself',\n",
       " 'him',\n",
       " 'himself',\n",
       " 'his',\n",
       " 'how',\n",
       " 'i',\n",
       " 'if',\n",
       " 'in',\n",
       " 'into',\n",
       " 'is',\n",
       " 'isn',\n",
       " \"isn't\",\n",
       " 'it',\n",
       " \"it's\",\n",
       " 'its',\n",
       " 'itself',\n",
       " 'just',\n",
       " 'll',\n",
       " 'm',\n",
       " 'ma',\n",
       " 'me',\n",
       " 'mightn',\n",
       " \"mightn't\",\n",
       " 'more',\n",
       " 'most',\n",
       " 'mustn',\n",
       " \"mustn't\",\n",
       " 'my',\n",
       " 'myself',\n",
       " 'needn',\n",
       " \"needn't\",\n",
       " 'no',\n",
       " 'nor',\n",
       " 'not',\n",
       " 'now',\n",
       " 'o',\n",
       " 'of',\n",
       " 'off',\n",
       " 'on',\n",
       " 'once',\n",
       " 'only',\n",
       " 'or',\n",
       " 'other',\n",
       " 'our',\n",
       " 'ours',\n",
       " 'ourselves',\n",
       " 'out',\n",
       " 'over',\n",
       " 'own',\n",
       " 're',\n",
       " 's',\n",
       " 'same',\n",
       " 'shan',\n",
       " \"shan't\",\n",
       " 'she',\n",
       " \"she's\",\n",
       " 'should',\n",
       " \"should've\",\n",
       " 'shouldn',\n",
       " \"shouldn't\",\n",
       " 'so',\n",
       " 'some',\n",
       " 'such',\n",
       " 't',\n",
       " 'than',\n",
       " 'that',\n",
       " \"that'll\",\n",
       " 'the',\n",
       " 'their',\n",
       " 'theirs',\n",
       " 'them',\n",
       " 'themselves',\n",
       " 'then',\n",
       " 'there',\n",
       " 'these',\n",
       " 'they',\n",
       " 'this',\n",
       " 'those',\n",
       " 'through',\n",
       " 'to',\n",
       " 'too',\n",
       " 'under',\n",
       " 'until',\n",
       " 'up',\n",
       " 've',\n",
       " 'very',\n",
       " 'was',\n",
       " 'wasn',\n",
       " \"wasn't\",\n",
       " 'we',\n",
       " 'were',\n",
       " 'weren',\n",
       " \"weren't\",\n",
       " 'what',\n",
       " 'when',\n",
       " 'where',\n",
       " 'which',\n",
       " 'while',\n",
       " 'who',\n",
       " 'whom',\n",
       " 'why',\n",
       " 'will',\n",
       " 'with',\n",
       " 'won',\n",
       " \"won't\",\n",
       " 'wouldn',\n",
       " \"wouldn't\",\n",
       " 'y',\n",
       " 'you',\n",
       " \"you'd\",\n",
       " \"you'll\",\n",
       " \"you're\",\n",
       " \"you've\",\n",
       " 'your',\n",
       " 'yours',\n",
       " 'yourself',\n",
       " 'yourselves'}"
      ]
     },
     "metadata": {},
     "execution_count": 51
    }
   ],
   "source": [
    "from nltk.corpus import stopwords\n",
    "stopWords = set(stopwords.words('english'))\n",
    "stopWords"
   ]
  },
  {
   "cell_type": "code",
   "execution_count": 54,
   "metadata": {},
   "outputs": [],
   "source": [
    "df['BagofWords'] = df['Review Text'].apply(lambda x: x.lower())"
   ]
  },
  {
   "cell_type": "code",
   "execution_count": 59,
   "metadata": {},
   "outputs": [
    {
     "output_type": "execute_result",
     "data": {
      "text/plain": [
       "\"“fab breakfast and bar!”“... beef tartare, a seafood tower, beet salad, duck breast and a salmon dish.”“the food was great (try the meatballs) and the atmosphere was fantastic!”“a simple green salad, a glass of red wine and franco's scrumptious lasagna.”“... accompany our great flourless chocolate cake and the best cheesecake ever.”“known for their pancakes, but recommend the breakfast burrito!”“the coffee flight was amazing!”“many different beers they brew, plus a wall of other craft beers give plenty...”“we had an excellent a salad followed by a absolutely delicious sea bass entrée.”“... it was a southwestern type of salad with really fresh greens, spicy chick...”“breakfast brunch”“still the best burger and fries i know.”“definitely get the beignets that are brought to you in a display of each beig...”“... to start, and then for entrees we had the pork chop and the sea bass.”“if you go and try the omakase, be prepared for a lot of amazing food 😁”“... to try the pisco sour which took me right back to my time in peru!”“we started with drinks, caesar salad, swordfish, sides and desert s’more.”“we shared side dishes and each had a salad which could have been shared also.”“several of our family members are vegan and vegetarian so we always have to b...”“my corned beef hash was very good and my wife raved about her eggs benedict,...”“the salmon appetizer is a meal in itself that has the flavor police nervous!”“my husband enjoyed the french toast and my daughter loved the pancakes with s...”“the fondue board has 3-cheese fondue, pear slices, pretzel roll and sausage.”“others had the filet, a burger, salmon.”“we split an eggplant baked in ricotta cheese with flaked spinach, smothered i...”“the huevos rancheros is a must have, the green goddess is wonderful and the b...”“tasty”“great little mom & pop sushi restaurant”“great authentic pasties and meatballs!”“a place to get out of the rain turned out to be a fabulous stop for happy hour!”“finding a quality, healthy”“our table began with a varied assortment of apps: a radish salad, an okra sid...”\""
      ]
     },
     "metadata": {},
     "execution_count": 59
    }
   ],
   "source": [
    "text_2 = ''.join(df['BagofWords'])\n",
    "text_2"
   ]
  },
  {
   "cell_type": "code",
   "execution_count": 64,
   "metadata": {},
   "outputs": [
    {
     "output_type": "execute_result",
     "data": {
      "text/plain": [
       "\"“fab breakfast and bar!”“... beef tartare, a seafood tower, beet salad, duck breast and a salmon dish.”“the food was great (try the meatballs) and the atmosphere was fantastic!”“a simple green salad, a glass of red wine and franco's scrumptious lasagna.”“... accompany our great flourless chocolate cake and the best cheesecake ever.”“known for their pancakes, but recommend the breakfast burrito!”“the coffee flight was amazing!”“many different beers they brew, plus a wall of other craft beers give plenty...”“we had an excellent a salad followed by a absolutely delicious sea bass entrée.”“... it was a southwestern type of salad with really fresh greens, spicy chick...”“breakfast brunch”“still the best burger and fries i know.”“definitely get the beignets that are brought to you in a display of each beig...”“... to start, and then for entrees we had the pork chop and the sea bass.”“if you go and try the omakase, be prepared for a lot of amazing food 😁”“... to try the pisco sour which took me right back to my time in peru!”“we started with drinks, caesar salad, swordfish, sides and desert s’more.”“we shared side dishes and each had a salad which could have been shared also.”“several of our family members are vegan and vegetarian so we always have to b...”“my corned beef hash was very good and my wife raved about her eggs benedict,...”“the salmon appetizer is a meal in itself that has the flavor police nervous!”“my husband enjoyed the french toast and my daughter loved the pancakes with s...”“the fondue board has 3-cheese fondue, pear slices, pretzel roll and sausage.”“others had the filet, a burger, salmon.”“we split an eggplant baked in ricotta cheese with flaked spinach, smothered i...”“the huevos rancheros is a must have, the green goddess is wonderful and the b...”“tasty”“great little mom & pop sushi restaurant”“great authentic pasties and meatballs!”“a place to get out of the rain turned out to be a fabulous stop for happy hour!”“finding a quality, healthy”“our table began with a varied assortment of apps: a radish salad, an okra sid...”\""
      ]
     },
     "metadata": {},
     "execution_count": 64
    }
   ],
   "source": [
    "\n",
    "for i in stopWords:\n",
    "    if i in text_2:\n",
    "        text_2 = text_2.strip(i)\n",
    "text_2"
   ]
  },
  {
   "cell_type": "code",
   "execution_count": null,
   "metadata": {},
   "outputs": [],
   "source": []
  }
 ]
}