{
 "metadata": {
  "language_info": {
   "codemirror_mode": {
    "name": "ipython",
    "version": 3
   },
   "file_extension": ".py",
   "mimetype": "text/x-python",
   "name": "python",
   "nbconvert_exporter": "python",
   "pygments_lexer": "ipython3",
   "version": "3.8.3-final"
  },
  "orig_nbformat": 2,
  "kernelspec": {
   "name": "python3",
   "display_name": "Python 3",
   "language": "python"
  }
 },
 "nbformat": 4,
 "nbformat_minor": 2,
 "cells": [
  {
   "cell_type": "code",
   "execution_count": 1,
   "metadata": {},
   "outputs": [],
   "source": [
    "from bs4 import BeautifulSoup\n",
    "import requests"
   ]
  },
  {
   "cell_type": "code",
   "execution_count": 7,
   "metadata": {},
   "outputs": [
    {
     "output_type": "execute_result",
     "data": {
      "text/plain": [
       "<Response [200]>"
      ]
     },
     "metadata": {},
     "execution_count": 7
    }
   ],
   "source": [
    "resp = requests.get(\"https://www.tripadvisor.com/Restaurants-g31350-Scottsdale_Arizona.html\")\n",
    "resp"
   ]
  },
  {
   "cell_type": "code",
   "execution_count": 8,
   "metadata": {},
   "outputs": [
    {
     "output_type": "execute_result",
     "data": {
      "text/plain": [
       "each(function(i, elem) {\n",
       "if (!$(elem).hasClass('inbox-jewel-test')) {\n",
       "$(elem).addClass('hidden');\n",
       "}\n",
       "})\n",
       "}\n",
       "}\n",
       ");\n",
       "Radio('inbox').on(\n",
       "'setup_handler',\n",
       "function() {\n",
       "_setupHandlers();\n",
       "}\n",
       ");\n",
       "}\n",
       "/*\n",
       "* Setup the icon click handler.\n",
       "*/\n",
       "_setupHandlers();\n",
       "return {\n",
       "};\n",
       "});\n",
       "});require(['ta/p13n/placements'], function(placements) {\n",
       "var define = placements.define.bind(placements,'browser_mode_tracking','handlers',['handlers']);\n",
       "define([\n",
       "'placement', 'ta/Core/TA.Event', 'ta/Browser', 'ta/Core/TA.Record', 'ta/util/SessionStorage'\n",
       "], function(placement, taEvent, taBrowser, taRecord, taSessionStorage){\n",
       "var browserName;\n",
       "var sessionStoreKey = placement.id + '_browser_mode_tracked';\n",
       "function _trackBrowserMode (resultStr) {\n",
       "taRecord.trackEventOnPage('BROWSER_TRACKING', browserName, resultStr, null, true);\n",
       "}\n",
       "taEvent.queueForLoad(function(){\n",
       "if (taSessionStorage.canUseSessionStore() && sessionStorage.getItem(sessionStoreKey)) {\n",
       "// already tracked\n",
       "return;\n",
       "}\n",
       "else {\n",
       "if (taBrowser.isChrome()) {\n",
       "browserName = \"Chrome\";\n",
       "taBrowser.isChromeIncognito(_trackBrowserMode);\n",
       "taSessionStorage.canUseSessionStore() && sessionStorage.setItem(sessionStoreKey, '1');\n",
       "}\n",
       "}\n",
       "});\n",
       "});});\n",
       "define('overlays/options/autosize', ['vanillajs', 'api-mod'], function(vanilla, api) {\n",
       "'use strict';\n",
       "return function(padding){\n",
       "return function(){\n",
       "var autosize = function (){\n",
       "var el = api.find('.autosize', this.container);\n",
       "if (el){\n",
       "var vH = Math.max(document.documentElement.clientHeight, window.innerHeight || 0) - padding;\n",
       "var oH = api.getSize(this.container).y;\n",
       "if (oH > vH){\n",
       "var eH = api.getSize(el).y;\n",
       "this.container.style.height = vH + 'px';\n",
       "var h = (eH + vH - oH) + 'px';\n",
       "var css = document.createElement('style');\n",
       "css.type = 'text/css';\n",
       "css.innerHTML = this.container.className\n",
       ".split(' ')\n",
       ".map(function(c){ return '.' + c; })\n",
       ".join('') + ' .autosize { height: ' + h + '; }';\n",
       "document.head.appendChild(css);\n",
       "}\n",
       "}\n",
       "};\n",
       "this.on('show', autosize);\n",
       "};\n",
       "};\n",
       "});\n",
       "require(['ta/p13n/placements'], function(placements) {\n",
       "var define = placements.define.bind(placements,'shopping_cart_simple_flyout','handlers',['handlers']);\n",
       "define(\n",
       "[\n",
       "'placement',\n",
       "'lib/jquery-amd',\n",
       "'overlays/Overlay',\n",
       "'overlays/options/autosize',\n",
       "'overlays/options/autoReposition',\n",
       "'overlays/options/centerArrowOnSrcElement',\n",
       "'overlays/options/closeOnChildClick',\n",
       "'overlays/options/closeOnEscape',\n",
       "'overlays/position',\n",
       "'overlays/styles/popover',\n",
       "'ta/Core/TA.Record'\n",
       "],\n",
       "function(\n",
       "placement,\n",
       "$,\n",
       "Overlay,\n",
       "Autosize,\n",
       "AutoReposition,\n",
       "CenterArrowOnSrcElement,\n",
       "CloseOnChildClick,\n",
       "CloseOnEscape,\n",
       "Position,\n",
       "Popover,\n",
       "taRecord\n",
       ") {\n",
       "'use strict';\n",
       "function SimpleFlyout(targetElement, header, body, cookieId, pageProperty) {\n",
       "var overlay = undefined;\n",
       "function _showAlert() {\n",
       "if (overlay) {\n",
       "return;\n",
       "}\n",
       "overlay = new Overlay(\n",
       "targetElement,\n",
       "[\n",
       "Popover(targetElement, 'below', '', header.html(), body.html()),\n",
       "Autosize(0),\n",
       "AutoReposition,\n",
       "CloseOnEscape,\n",
       "CloseOnChildClick,\n",
       "Position.below([8, -20]),\n",
       "CenterArrowOnSrcElement(targetElement)\n",
       "]);\n",
       "if (overlay) {\n",
       "overlay.on('hide', function() {\n",
       "taRecord.trackEventOnPage(pageProperty, 'close');\n",
       "});\n",
       "overlay.show();\n",
       "// bounce the cart\n",
       "$(targetElement).addClass('animated');\n",
       "// request to mark session as seen.\n",
       "if (cookieId) {\n",
       "$.get('/AttractionCommerceAjax?a=' + cookieId);\n",
       "}\n",
       "}\n",
       "}\n",
       "this.show = _showAlert;\n",
       "}\n",
       "var content = $('.scream_overlay');\n",
       "var flyout = new SimpleFlyout($('.shopping-cart-link').get(0), $('.scream_header'), $('.scream_body'), content.attr('data-cookieId'), content.attr('data-pageProperty'));\n",
       "$(document).ready(flyout.show);\n",
       "return {};\n",
       "});\n",
       "});\n",
       "define(\"cpm/AdBlockDetect\", [\"lib/jquery-amd\",\"utils/browserutils\",\"ta/Core/TA.Event\",\"ta/Core/TA.Record\",\"ta/util/Error\"],\n",
       "function( $, Browser, taEvent, taRecord, taError) {\n",
       "'use strict';\n",
       "var exports = {};\n",
       "var _testImg;\n",
       "var DEFAULT_LABEL = \"ab_chk\";\n",
       "var _isPixelLoadError;\n",
       "var _logged = false;\n",
       "var _cdn = window.CDNHOST || \"\";\n",
       "var _pixelUrl = \"/img2/x.gif?&ads=1&adsize=2&adslot=3&rnd=\";\n",
       "var _generatePixel = function() {\n",
       "var rnd = Math.floor(Math.random() * 100000);\n",
       "return $('<img src=\"' + _cdn + _pixelUrl + rnd + '\" style=\"position:absolute\" class=\"ad ad_column\" height=\"0\" width=\"0\" />');\n",
       "};\n",
       "var _getAdCount = function() {\n",
       "var count = document.querySelectorAll(\".gptAd:not(.inactive)\").length;\n",
       "if (screen.width < 768) {\n",
       "count += document.querySelectorAll(\".inline_ad_wrapper\").length;\n",
       "}\n",
       "return count;\n",
       "};\n",
       "var _log = function(blocked, trackingLabel, trackUnblocked){\n",
       "if ((!_logged && trackingLabel === DEFAULT_LABEL) ||\n",
       "(trackingLabel && trackingLabel !== DEFAULT_LABEL)){\n",
       "if (blocked || trackUnblocked) {\n",
       "taRecord.trackEventOnPage(trackingLabel, Browser.name, blocked, _getAdCount(), false);\n",
       "}\n",
       "_logged = true;\n",
       "}\n",
       "};\n",
       "var _detect = function(onDetectedHandler, trackingLabel, trackUnblocked, isLoadError){\n",
       "if (typeof isLoadError != undefined) {\n",
       "_isPixelLoadError = isLoadError;\n",
       "}\n",
       "if (_testImg){\n",
       "var blocked = _isPixelLoadError ? true : !_testImg[0].offsetParent;\n",
       "_log(blocked, trackingLabel, trackUnblocked);\n",
       "if (blocked) {\n",
       "onDetectedHandler();\n",
       "}\n",
       "}\n",
       "};\n",
       "exports.runIfDetected = function(onDetectedHandler, trackingLabel, trackUnblocked) {\n",
       "if ( typeof onDetectedHandler != \"function\") {\n",
       "taError.record(null, \"runIfDetected requires a function\");\n",
       "return;\n",
       "}\n",
       "taEvent.queueForLoad( function() {\n",
       "_logged = false;\n",
       "if (_testImg) {\n",
       "_detect(onDetectedHandler, trackingLabel, trackUnblocked);\n",
       "} else {\n",
       "_testImg = _generatePixel();\n",
       "_testImg.on(\"load\", function(){ _detect(onDetectedHandler, trackingLabel, trackUnblocked, false); });\n",
       "_testImg.on(\"error\", function(){ _detect(onDetectedHandler, trackingLabel, trackUnblocked, true); });\n",
       "$(\"body\").append(_testImg);\n",
       "}\n",
       "}, \"AdBlockDetect\");\n",
       "};\n",
       "return exports;\n",
       "});\n",
       "require(['ta/p13n/placements'], function(placements) {\n",
       "var define = placements.define.bind(placements,'ab_chk','handlers',['handlers']);\n",
       "/*\n",
       "* ADS-3472: ad blocker detection running permanently on sales drs 99\n",
       "* Works in Chrome, Firefox, Safari & IE.\n",
       "*/\n",
       "define([\"placement\",\"cpm/AdBlockDetect\"], function(placement,abDetect) {\n",
       "// a fn is required,\n",
       "abDetect.runIfDetected(function(){}, \"ab_chk\", true);\n",
       "});\n",
       "});require(['ta/p13n/placements','ta/page','$prp/ab_chk/handlers'], function(placements, impl) {\n",
       "window.ta.plc_ab_chk_handlers = placements.load('ab_chk','handlers.js', { 'name': 'ab_chk', 'id': 'taplc_ab_chk', 'location_id': 31350, 'servletClass': 'com.TripResearch.servlet.eatery.EateryOverviewServlet', 'servletName': 'Restaurants', 'params': {}, 'data': {}});});\n",
       "require(['ta/p13n/placements'], function(placements) {\n",
       "var define = placements.define.bind(placements,'unsupported_browser_messaging','handlers',['handlers']);\n",
       "define(['placement', 'ta/util/ASDF'],\n",
       "function(placement, asdf) {\n",
       "function _openUrl(url) {\n",
       "asdf.asdfPopup(url);\n",
       "}\n",
       "return {\n",
       "openUrl: _openUrl\n",
       "};\n",
       "});});if (require) {require(['ta/rollupAmdShim'], function(rollupAmdShim) { rollupAmdShim.install([], [\"ta/util/RecordInterruption\"]); });\n",
       "}\n",
       "else {if (window.ta&&ta.rollupAmdShim) {ta.rollupAmdShim.install([],[\"ta/util/RecordInterruption\"]);}\n",
       "}require(['ta/p13n/placements'], function(placements) {\n",
       "var define = placements.define.bind(placements,'qualtrics_survey','handlers',['handlers']);\n",
       "/** Private javascript for qualtrics survey placement\n",
       "* We want to show on the 2nd pageview, no more than once every 30 days\n",
       "* The div id is generated from the qualtrics site-intercept code.\n",
       "* The placement render will decide which survey to displace.\n",
       "*/\n",
       "define([\n",
       "\"placement\",\n",
       "\"lib/jquery-amd\",\n",
       "\"ta\",\n",
       "'ta/Core/TA.LocalStorage',\n",
       "'page-model',\n",
       "'ta/util/RecordInterruption',\n",
       "'ta/support/Qualtrics',\n",
       "'utils/throttle',\n",
       "'common/Radio'\n",
       "],\n",
       "function (placement, $, ta, taLocalStore, model, recordInterruption, taQualtrics, throttle, Radio) {\n",
       "\"use strict\";\n",
       "ta.queueForLoad(function () {\n",
       "// For surveys that should hide when the user begins to scroll, this is the how much give they have\n",
       "var SCROLL_BUFFER = 318;\n",
       "// Campaign ID for event tracking\n",
       "var CAMPAIGN_ID = 'qualtrics_surveys';\n",
       "taQualtrics.setSmartSurvey(!!placement.params.smartSurvey);\n",
       "taQualtrics.updatePageViews();\n",
       "if (taLocalStore.enabled && ( taQualtrics.isDebug() || taQualtrics.canDisplaySmart() || ( !taQualtrics.getSmartSurvey() && taQualtrics.canDisplay() ) )) {\n",
       "var surveyKey = placement.params.surveyId;\n",
       "var surveyContainerClassName = '.' + surveyKey + '_InfoBarContainer';\n",
       "var surveyName = placement.params.surveyName;\n",
       "var surveyProperties = 'Qualtrics_Survey' + '|' + window.pageServlet + '|' + surveyName;\n",
       "if (placement.params.smartSurvey) {\n",
       "var getSurveyProperties = function (_ss, _qa) {\n",
       "return _ss + '|' + ['sc-' + _qa.getSessionCount(), 'ir-' + _qa.getInterceptReqs(), 'iv-' + _qa.getInterceptViews(), 'pv-'+_qa.getPageViews()].join('|');\n",
       "};\n",
       "$('body').on('qxInterceptShown', function () {\n",
       "ta.trackEventOnPage(CAMPAIGN_ID, 'interceptShown', getSurveyProperties(surveyProperties, taQualtrics), null, true);\n",
       "taQualtrics.updateInterceptViews();\n",
       "taQualtrics.updateSessionCount();\n",
       "});\n",
       "$('body').on('qxInterceptAccept', function () {\n",
       "ta.trackEventOnPage(CAMPAIGN_ID, 'interceptAccept', getSurveyProperties(surveyProperties, taQualtrics), null, false);\n",
       "taQualtrics.setResponded(true);\n",
       "});\n",
       "$('body').on('qxInterceptDecline', function () {\n",
       "ta.trackEventOnPage(CAMPAIGN_ID, 'interceptDecline', getSurveyProperties(surveyProperties, taQualtrics), null, false);\n",
       "taQualtrics.setResponded(true);\n",
       "});\n",
       "}\n",
       "if (surveyKey) {\n",
       "taQualtrics.displaySurvey(surveyKey);\n",
       "recordInterruption.record('popup', surveyProperties, taQualtrics.getPageViews());\n",
       "if (placement.params.smartSurvey) {\n",
       "taQualtrics.updateInterceptReqs();\n",
       "}\n",
       "// TV-1243 - Mobile Surveys cover a commerce component, so they should be hidden when the user begins to scroll\n",
       "if (placement.params.hideOnScroll) {\n",
       "var hide = function () {\n",
       "var scrollTop = window.pageYOffset || document.documentElement.scrollTop || document.body.scrollTop;\n",
       "if (scrollTop > SCROLL_BUFFER) {\n",
       "$(surveyContainerClassName).hide();\n",
       "}\n",
       "};\n",
       "$(window).on('scroll', throttle(hide, 100));\n",
       "}\n",
       "var surveyRadio = Radio(\"QualtricsSurvey\"); // use radio so this functionality can be added to WC footer easily\n",
       "window.addEventListener(\"qsi_js_loaded\", function() { // this event is fired when the Qualtrics external JS has finished loading\n",
       "if (surveyRadio.requestAny(\"shouldSuppress\", true)) {\n",
       "$(surveyContainerClassName).hide();\n",
       "}\n",
       "});\n",
       "surveyRadio.on(\"hide\", function() {$(surveyContainerClassName).hide();});\n",
       "surveyRadio.on(\"show\", function() {$(surveyContainerClassName).show();});\n",
       "}\n",
       "}\n",
       "});\n",
       "return {\n",
       "};\n",
       "});\n",
       "});require(['ta/p13n/placements','ta/page','$prp/unsupported_browser_messaging/handlers'], function(placements, impl) {\n",
       "window.ta.plc_unsupported_browser_messaging_0_handlers = placements.load('unsupported_browser_messaging','handlers.js', { 'name': 'unsupported_browser_messaging', 'occurrence': 0, 'id': 'taplc_unsupported_browser_messaging_0', 'location_id': 31350, 'servletClass': 'com.TripResearch.servlet.eatery.EateryOverviewServlet', 'servletName': 'Restaurants', 'modules': [\"handlers\"], 'params': {}, 'data': {}});});\n",
       "require(['ta/p13n/placements','ta/page','$prp/global_nav/handlers'], function(placements, impl) {\n",
       "window.ta.plc_global_nav_0_handlers = placements.load('global_nav','handlers.js', { 'name': 'global_nav', 'occurrence': 0, 'id': 'taplc_global_nav_0', 'location_id': 31350, 'servletClass': 'com.TripResearch.servlet.eatery.EateryOverviewServlet', 'servletName': 'Restaurants', 'modules': [\"deferred/lateHandlers\",\"handlers\"], 'params': {}, 'data': {}});});\n",
       "require(['ta/p13n/placements','ta/page','$prp/global_nav_links/handlers'], function(placements, impl) {\n",
       "window.ta.plc_global_nav_links_0_handlers = placements.load('global_nav_links','handlers.js', { 'name': 'global_nav_links', 'occurrence': 0, 'id': 'taplc_global_nav_links_0', 'location_id': 31350, 'servletClass': 'com.TripResearch.servlet.eatery.EateryOverviewServlet', 'servletName': 'Restaurants', 'modules': [\"handlers\"], 'params': {\"geopillOnHome\":false}, 'data': {}});});\n",
       "require(['ta/p13n/placements','ta/page','$prp/global_nav_action_inbox/handlers'], function(placements, impl) {\n",
       "window.ta.plc_global_nav_action_inbox_empty_0_handlers = placements.load('global_nav_action_inbox','handlers.js', { 'name': 'global_nav_action_inbox:empty', 'occurrence': 0, 'id': 'taplc_global_nav_action_inbox_empty_0', 'location_id': 31350, 'servletClass': 'com.TripResearch.servlet.eatery.EateryOverviewServlet', 'servletName': 'Restaurants', 'modules': [\"handlers\"], 'params': {}, 'data': {}});});\n",
       "require(['ta/p13n/placements','ta/page','$prp/trip_planner_breadcrumbs/handlers'], function(placements, impl) {\n",
       "window.ta.plc_trip_planner_breadcrumbs_0_handlers = placements.load('trip_planner_breadcrumbs','handlers.js', { 'name': 'trip_planner_breadcrumbs', 'occurrence': 0, 'id': 'taplc_trip_planner_breadcrumbs_0', 'location_id': 31350, 'servletClass': 'com.TripResearch.servlet.eatery.EateryOverviewServlet', 'servletName': 'Restaurants', 'modules': [\"handlers\"], 'params': {}, 'data': {}});});\n",
       "require(['ta/p13n/placements','ta/page','$prp/masthead_search/handlers'], function(placements, impl) {\n",
       "window.ta.plc_masthead_search_empty_0_handlers = placements.load('masthead_search','handlers.js', { 'name': 'masthead_search:empty', 'occurrence': 0, 'id': 'taplc_masthead_search_empty_0', 'location_id': 31350, 'servletClass': 'com.TripResearch.servlet.eatery.EateryOverviewServlet', 'servletName': 'Restaurants', 'modules': [\"deferred/lateHandlers\",\"handlers\"], 'params': {\"typeahead_to_store\":{\"typeahead_new_location_label\":\"NEW LOCATION\",\"typeahead.aliases.travel_insurance\":[\"insurance\",\"travel insurance\",\"trip insurance\",\"annual travel insurance\"],\"typeahead.aliases.flight_reviews\":[\"flight reviews\",\"airline reviews\"],\"typeahead_throttle_requests\":\"true\",\"typeahead.aliases.rental_cars\":[\"Rental Cars\",\"Car Rentals\"],\"typeahead_cruise_ships_enabled\":\"true\",\"typeahead.aliases.activities\":[\"Tours and Tickets\",\"Tours & Tickets\"],\"typeahead.aliases.things_to_do\":[\"Things to do\",\"Thing to do\",\"attractions\",\"activities\",\"what to do\",\"sightseeing\",\"Sights\",\"Tourist Attractions\",\"Activity\",\"Attraction\",\"What to see\",\"Where to go\",\"Where to visit\",\"Best Attractions\",\"Best Things to do\",\"Best Tourist Attractions\",\"Best Sightseeing\",\"Top Attractions\",\"Top Things to do\",\"Top Tourist Attractions\",\"Top Sightseeing\",\"Top 10 Attractions\",\"Top 10 Things to do\",\"Top 10 Tourist Attractions\",\"Top 10 Sightseeing\"],\"typeahead.enable_nearby\":true,\"typeahead_cruise_cruiselines_enabled\":\"true\",\"typeahead_divClasses\":null,\"typeahead.scoped.cur_loc_denied\":\"Tripadvisor was denied permission to access your location.  Give your browser and Tripadvisor permission to use your current location and try again.\",\"typeahead.scoped.cur_loc\":\"Nearby\",\"typeahead.aliases.travel_forums\":[\"forum\",\"forums\",\"Travel Forum\",\"Travel Forums\"],\"typeahead.aliases.travel_guides\":[\"guides\",\"city guides\"],\"typeahead.aliases.vacation_rentals\":[\"vacation rentals\",\"vacation rental\",\"Airbnb\",\"Holiday rental\",\"Holiday rentals\"],\"typeahead.aliases.flights\":[\"Flights\",\"Flight\",\"Flight to\",\"flights to\",\"nonstop flights\",\"business class flights\",\"return flights\",\"airline flights\",\"air flights\",\"cheap flights\",\"flight from\",\"cheapest flights\",\"flight only\",\"one way flights\",\"direct flights\",\"domestic flights\",\"air fare\",\"cheap flights to\",\"air flights to\",\"airline flights to\",\"business class flights to\",\"cheapest flights to\",\"direct flights to\",\"domestic flights to\",\"nonstop flights to\",\"one way flights to\",\"air fares\",\"airfare\",\"airfares\",\"air fare to\",\"air fares to\",\"airfare to\",\"airfares to\"],\"typeahead_moved_label\":\"MOVED\",\"typeahead_dual_search_options\":{\"geoID\":31350,\"bypassSearch\":true,\"staticTypeAheadOptions\":{\"minChars\":3,\"defaultValue\":\"Search\",\"injectNewLocation\":true,\"typeahead1_5\":true,\"geoBoostFix\":true},\"debug\":false,\"navSearchTypeAheadEnabled\":true,\"isMobileWeb\":false,\"geoInfo\":{\"geoId\":31350,\"geoName\":\"Scottsdale\",\"parentName\":\"Arizona\",\"shortParentName\":\"Arizona\",\"categories\":{\"GEO\":{\"url\":\"/Tourism-g31350-Scottsdale_Arizona-Vacations.html\"},\"HOTEL\":{\"url\":\"/Hotels-g31350-Scottsdale_Arizona-Hotels.html\"},\"VACATION_RENTAL\":{\"url\":\"/VacationRentals-g31350-Reviews-Scottsdale_Arizona-Vacation_Rentals.html\"},\"ATTRACTION\":{\"url\":\"/Attractions-g31350-Activities-Scottsdale_Arizona.html\"},\"EATERY\":{\"url\":\"/Restaurants-g31350-Scottsdale_Arizona.html\"},\"FLIGHTS_TO\":{\"url\":\"/Flights-g31350-Scottsdale_Arizona-Cheap_Discount_Airfares.html\"},\"CAR_RENTAL_OFFICE\":{\"url\":\"/RentalCars_Review?detail=31350\"}}}},\"typeahead_closed_label\":\"CLOSED\",\"typeahead.scoped.all_of_trip\":\"Worldwide\",\"typeahead_attraction_activity_search\":\"true\",\"typeahead.aliases.hotels\":[\"hotels\",\"hotel\",\"lodging\",\"places to stay\",\"where to stay\",\"accommodation\",\"accommodations\",\"hotel reviews\",\"Hotels & Motels\",\"Best Hotels\",\"Best Places to Stay\",\"Best Lodging\",\"Best Hotels & Motels\",\"Lodgings\",\"Place to stay\",\"Top Hotels\",\"Top Places to Stay\",\"Top Lodging\",\"Top Hotels & Motels\",\"Top 10 Hotels\",\"Top 10 Places to Stay\",\"Top 10 Lodging\",\"Top 10 Hotels & Motels\"],\"typeahead.aliases.restaurants\":[\"food\",\"places to eat\",\"eateries\",\"dining\",\"restaurants\",\"restaurant\",\"Place to eat\",\"Eatery\",\"Where to eat\",\"What to eat\",\"Best Restaurants\",\"Best Places to Eat\",\"Best Food\",\"Best Dining\",\"Top Restaurants\",\"Top Places to Eat\",\"Top Food\",\"Top Dining\",\"Top 10 Restaurants\",\"Top 10 Places To Eat\",\"Top 10 Food\",\"Top 10 Dining\"],\"typeahead.searchMore.v2\":\"Search for \\\"%\\\"\",\"typeahead.searchSessionId\":\"76266560331A492B9455D1CD9A8F05471608136192638ssid\"}}, 'data': {}});});\n",
       "require(['ta/p13n/placements','ta/page','$prp/hotels_redesign_header/handlers'], function(placements, impl) {\n",
       "window.ta.plc_hotels_redesign_header_0_handlers = placements.load('hotels_redesign_header','handlers.js', { 'name': 'hotels_redesign_header', 'occurrence': 0, 'id': 'taplc_hotels_redesign_header_0', 'location_id': 31350, 'servletName': 'Restaurants','servletClass': 'com.TripResearch.servlet.eatery.EateryOverviewServlet', 'modules': [\"handlers\"], 'params': {}, 'data': {}});});\n",
       "require(['ta/p13n/placements','ta/page','$prp/footer_banner_ad_billboard/handlers'], function(placements, impl) {\n",
       "window.ta.plc_footer_banner_ad_billboard_restaurants_0_handlers = placements.load('footer_banner_ad_billboard','handlers.es6', { 'name': 'footer_banner_ad_billboard:restaurants', 'occurrence': 0, 'id': 'taplc_footer_banner_ad_billboard_restaurants_0', 'location_id': 31350, 'servletClass': 'com.TripResearch.servlet.eatery.EateryOverviewServlet', 'servletName': 'Restaurants', 'modules': [\"handlers\"], 'params': {\"footer_banner_ad_style\":\"onGrayWithMarginReserveHeight\"}, 'data': {}});});\n",
       "require(['ta/p13n/placements','ta/page','$prp/browser_mode_tracking/handlers'], function(placements, impl) {\n",
       "window.ta.plc_browser_mode_tracking_0_handlers = placements.load('browser_mode_tracking','handlers.js', { 'name': 'browser_mode_tracking', 'occurrence': 0, 'id': 'taplc_browser_mode_tracking_0', 'location_id': 31350, 'servletClass': 'com.TripResearch.servlet.eatery.EateryOverviewServlet', 'servletName': 'Restaurants', 'modules': [\"handlers\"], 'params': {}, 'data': {}});});\n",
       "require(['ta/p13n/placements','ta/page','$prp/qualtrics_survey/handlers'], function(placements, impl) {\n",
       "window.ta.plc_qualtrics_survey_0_handlers = placements.load('qualtrics_survey','handlers.js', { 'name': 'qualtrics_survey', 'occurrence': 0, 'id': 'taplc_qualtrics_survey_0', 'location_id': 31350, 'servletClass': 'com.TripResearch.servlet.eatery.EateryOverviewServlet', 'servletName': 'Restaurants', 'modules': [\"handlers\"], 'params': {}, 'data': {}});});\n",
       "require(['ta/prwidgets', 'ta/page'], function(prwidgets) {\n",
       "prwidgets.initWidgets(document);\n",
       "});\n",
       "</script>\n",
       "<script crossorigin=\"anonymous\" data-rup=\"long_lived_global_legacy\" src=\"https://static.tacdn.com/js3/build/concat/long_lived_global_legacy-c-v24294967295a.js\" type=\"text/javascript\"></script>\n",
       "<script crossorigin=\"anonymous\" data-rup=\"short_lived_global_legacy\" src=\"https://static.tacdn.com/js3/build/concat/short_lived_global_legacy-c-v22007636488a.js\" type=\"text/javascript\"></script>\n",
       "<div id=\"IP_IFRAME_HOLDER\"></div>\n",
       "\n",
       "\n",
       "\n",
       "</body><!-- st: 983 dc: 1 sc: 41 --><!-- uid: X9o1-wokJBgAA5uhBpgAAAA3 --></html>"
      ]
     },
     "metadata": {},
     "execution_count": 8
    }
   ],
   "source": [
    "soup = BeautifulSoup(resp.text, 'html5lib')\n",
    "soup"
   ]
  },
  {
   "cell_type": "code",
   "execution_count": 9,
   "metadata": {},
   "outputs": [
    {
     "output_type": "execute_result",
     "data": {
      "text/plain": [
       "l\" target=\"_blank\"><span class=\"_1OfeygW_\">“Gomae, agedashi tofu, <b>Salmon</b> and Saba s...”</span></a></span></div></div><div class=\"Dug7cOwy\"></div></div></div><div></div></span></div><div class=\"_5rLJEtpz\"><div class=\"iab_leaBoa\"><div class=\"gptAd _14GYXQ_R _2P8VqeMZ _1Dsz09MK\" data-size=\"[728,90]\" id=\"gpt-ad-728x90-inline5\"></div></div></div><div class=\"_1llCuDZj\" data-test=\"27_list_item\"><span><div class=\"_1kNOY9zw\"><div class=\"_2jF2URLh\"><span><a class=\"_2uEVo25r _3tdrXOp7\" href=\"/Restaurant_Review-g31350-d6017865-Reviews-Cornish_Pasty_Co-Scottsdale_Arizona.html\" target=\"_blank\"><div class=\"_2PhdrMP3\"></div><div class=\"_2KPNYP9B\" data-clicksource=\"Photo\"></div></a></span><div><div class=\"_2QJ7e_cW\"><div class=\"_15aaPtHM _50cmFIkv D1m_VFgO _2a-PzfE-\"><span class=\"_1YkiZl2_ _2geKhlYH\"><span class=\"_1tvInqmQ _1T_s6QZp\"><svg class=\"_2HBN-k68 _2JndpOur\" height=\"1em\" viewBox=\"0 0 24 24\" width=\"1em\"><path d=\"M12 2C6.487 2 2 6.487 2 12c0 5.515 4.487 10 10 10 5.515 0 10-4.485 10-10 0-5.513-4.485-10-10-10zm4.688 10.911c-.975 1.188-4.687 4.434-4.687 4.434S8.258 14.1 7.29 12.903c-1.14-1.411-1.12-3.241.049-4.351.611-.58 1.42-.898 2.279-.898s1.668.318 2.279.898l.096.092.09-.087a3.296 3.296 0 012.278-.897c.86 0 1.669.318 2.277.897 1.201 1.139 1.219 2.929.05 4.354z\"></path></svg></span><span class=\"_1tvInqmQ xIyKWMUr\"><svg class=\"_2HBN-k68 _2JndpOur\" height=\"1em\" viewBox=\"0 0 24 24\" width=\"1em\"><path d=\"M14.361 8.768c-.574 0-1.111.211-1.516.594l-.854.812-.861-.819c-.401-.382-.939-.592-1.513-.592s-1.111.21-1.514.593c-.876.832-.589 2.059.048 2.847.726.896 2.961 2.89 3.845 3.667.878-.779 3.098-2.771 3.831-3.665.662-.808.936-2 .047-2.844a2.182 2.182 0 00-1.513-.593z\"></path><path d=\"M12 2C6.486 2 2 6.486 2 12s4.486 10 10 10 10-4.486 10-10S17.514 2 12 2zm4.688 10.911c-.975 1.188-4.687 4.435-4.687 4.435s-3.743-3.247-4.711-4.442c-1.141-1.411-1.12-3.241.049-4.351.61-.58 1.419-.898 2.279-.898s1.668.319 2.278.898l.096.091.09-.086a3.291 3.291 0 012.278-.897c.86 0 1.668.317 2.279.897 1.2 1.138 1.218 2.927.049 4.353z\"></path></svg></span></span></div></div></div></div><div class=\"_2Q7zqOgW\"><div class=\"_2kbTRHSI\"><div class=\"wQjYiB7z\"><span><a class=\"_15_ydu6b\" href=\"/Restaurant_Review-g31350-d6017865-Reviews-Cornish_Pasty_Co-Scottsdale_Arizona.html\" target=\"_blank\">27<!-- -->. <!-- -->Cornish Pasty Co</a></span></div></div><div class=\"_2rmp5aUK\"><div><div class=\"MIajtJFg _1cBs8huC\"><span class=\"_1uEmzgPt EHA742uW\"><span class=\"_1p0FLy4t\"><span><a class=\"_2uEVo25r\" href=\"/Restaurant_Review-g31350-d6017865-Reviews-Cornish_Pasty_Co-Scottsdale_Arizona.html#REVIEWS\" target=\"_blank\"><span class=\"_141TBKA-\"><svg aria-label=\"4.5 of 5 bubbles\" class=\"_3KcXyP0F\" height=\"16\" title=\"4.5 of 5 bubbles\" viewBox=\"0 0 120 24\" width=\"80\"><path d=\"M10.25 1.75a10.25 10.25 0 110 20.5 10.25 10.25 0 110-20.5m24 0a10.25 10.25 0 110 20.5 10.25 10.25 0 110-20.5m24 0a10.25 10.25 0 110 20.5 10.25 10.25 0 110-20.5m24 0a10.25 10.25 0 110 20.5 10.25 10.25 0 110-20.5m24 0a10.25 10.25 0 110 20.5 10.25 10.25 0 110-20.5m0 2.5a5.25 5.25 0 110 15.5\"></path></svg></span><span class=\"w726Ki5B\">233<!-- --> reviews</span></a></span></span></span><span class=\"EHA742uW _16JkOAhd\"><span class=\"_1p0FLy4t\">Closed Now</span></span></div><div class=\"MIajtJFg _1cBs8huC _3d9EnJpt\"><span class=\"EHA742uW\"><span class=\"_1p0FLy4t\">Bar, British</span></span><span class=\"EHA742uW\"><span class=\"_1p0FLy4t\">$$ - $$$</span></span><span class=\"_3iSfzjbL\"><span><span class=\"MUNBf8J0\"><span class=\"jxNFpwcl\"><svg class=\"_2HBN-k68 _2JndpOur\" height=\"1em\" viewBox=\"0 0 24 24\" width=\"1em\"><path d=\"M19.5 2h-15c-.3 0-.5.2-.5.5v19c0 .3.2.5.5.5h15c.3 0 .5-.2.5-.5v-19c0-.3-.2-.5-.5-.5zM12 10.2V12c0 .2-.2.4-.4.4h-1.4v5.3c0 .2-.2.399-.4.399h-.6c-.2.001-.4-.199-.4-.399v-5.3H7.4c-.2 0-.4-.2-.4-.4V6.4c0-.2.2-.4.4-.4h.5c.2 0 .4.2.4.4v3.9H8.9V6.4c0-.2.2-.4.4-.4h.5c.2 0 .4.2.4.4v3.9h.6V6.4c0-.2.2-.4.4-.4h.5c.2 0 .3.2.3.4v3.8zm5 7.4c0 .2-.2.4-.4.4h-.7c-.2 0-.4-.2-.4-.4v-5.3h-1.1c-.2 0-.4-.2-.4-.4V7.4v-.1c0-.7.7-1.3 1.5-1.3s1.5.6 1.5 1.4v10.2z\"></path></svg></span>Menu<svg class=\"_2HBN-k68 _2JndpOur\" height=\"1em\" viewBox=\"0 0 24 24\" width=\"1em\"><path d=\"M7.561 15.854l-1.415-1.415 8.293-8.293H7.854v-2h10v10h-2V7.561z\"></path></svg></span></span></span></div></div></div><div class=\"_2MLlqQGR\"></div><div class=\"_3bvktyA3\"><div class=\"_3hu2oQ7V _26lf-Ya3\"><span class=\"iXPDyayE\"><svg class=\"_2HBN-k68 _2JndpOur\" height=\"1em\" viewBox=\"0 0 24 24\" width=\"1em\"><path d=\"M2 11h5l-3 5h4l3-5V2H2zM13 2v9h5l-3 5h4l3-5V2z\"></path></svg></span><span><a class=\"_2uEVo25r _3mPt7dFq\" href=\"/ShowUserReviews-g31350-d6017865-r777664353-Cornish_Pasty_Co-Scottsdale_Arizona.html\" target=\"_blank\"><span class=\"_1OfeygW_\">“Great authentic pasties and <b>meatballs</b>!”</span></a></span></div><div class=\"_3hu2oQ7V n-kovNea\"><span class=\"iXPDyayE\"><svg class=\"_2HBN-k68 _2JndpOur\" height=\"1em\" viewBox=\"0 0 24 24\" width=\"1em\"><path d=\"M2 11h5l-3 5h4l3-5V2H2zM13 2v9h5l-3 5h4l3-5V2z\"></path></svg></span><span><a class=\"_2uEVo25r _3mPt7dFq\" href=\"/ShowUserReviews-g31350-d6017865-r771066980-Cornish_Pasty_Co-Scottsdale_Arizona.html\" target=\"_blank\"><span class=\"_1OfeygW_\">“Waitress said no <b>mushy peas</b> now can't get them from the UK.”</span></a></span></div></div><div class=\"Dug7cOwy\"></div></div></div><div></div></span></div><div class=\"_1llCuDZj\" data-test=\"28_list_item\"><span><div class=\"_1kNOY9zw\"><div class=\"_2jF2URLh\"><span><a class=\"_2uEVo25r _3tdrXOp7\" href=\"/Restaurant_Review-g31310-d338188-Reviews-Postino_Winebar-Phoenix_Arizona.html\" target=\"_blank\"><div class=\"_2PhdrMP3\"></div><div class=\"_2KPNYP9B\" data-clicksource=\"Photo\"></div></a></span><div><div class=\"_2QJ7e_cW\"><div class=\"_15aaPtHM _50cmFIkv D1m_VFgO _2a-PzfE-\"><span class=\"_1YkiZl2_ _2geKhlYH\"><span class=\"_1tvInqmQ _1T_s6QZp\"><svg class=\"_2HBN-k68 _2JndpOur\" height=\"1em\" viewBox=\"0 0 24 24\" width=\"1em\"><path d=\"M12 2C6.487 2 2 6.487 2 12c0 5.515 4.487 10 10 10 5.515 0 10-4.485 10-10 0-5.513-4.485-10-10-10zm4.688 10.911c-.975 1.188-4.687 4.434-4.687 4.434S8.258 14.1 7.29 12.903c-1.14-1.411-1.12-3.241.049-4.351.611-.58 1.42-.898 2.279-.898s1.668.318 2.279.898l.096.092.09-.087a3.296 3.296 0 012.278-.897c.86 0 1.669.318 2.277.897 1.201 1.139 1.219 2.929.05 4.354z\"></path></svg></span><span class=\"_1tvInqmQ xIyKWMUr\"><svg class=\"_2HBN-k68 _2JndpOur\" height=\"1em\" viewBox=\"0 0 24 24\" width=\"1em\"><path d=\"M14.361 8.768c-.574 0-1.111.211-1.516.594l-.854.812-.861-.819c-.401-.382-.939-.592-1.513-.592s-1.111.21-1.514.593c-.876.832-.589 2.059.048 2.847.726.896 2.961 2.89 3.845 3.667.878-.779 3.098-2.771 3.831-3.665.662-.808.936-2 .047-2.844a2.182 2.182 0 00-1.513-.593z\"></path><path d=\"M12 2C6.486 2 2 6.486 2 12s4.486 10 10 10 10-4.486 10-10S17.514 2 12 2zm4.688 10.911c-.975 1.188-4.687 4.435-4.687 4.435s-3.743-3.247-4.711-4.442c-1.141-1.411-1.12-3.241.049-4.351.61-.58 1.419-.898 2.279-.898s1.668.319 2.278.898l.096.091.09-.086a3.291 3.291 0 012.278-.897c.86 0 1.668.317 2.279.897 1.2 1.138 1.218 2.927.049 4.353z\"></path></svg></span></span></div></div></div></div><div class=\"_2Q7zqOgW\"><div class=\"_2kbTRHSI\"><div class=\"wQjYiB7z\"><span><a class=\"_15_ydu6b\" href=\"/Restaurant_Review-g31310-d338188-Reviews-Postino_Winebar-Phoenix_Arizona.html\" target=\"_blank\">28<!-- -->. <!-- -->Postino Winebar</a></span></div></div><div class=\"_2rmp5aUK\"><div><div class=\"MIajtJFg _1cBs8huC\"><span class=\"_1uEmzgPt EHA742uW\"><span class=\"_1p0FLy4t\"><span><a class=\"_2uEVo25r\" href=\"/Restaurant_Review-g31310-d338188-Reviews-Postino_Winebar-Phoenix_Arizona.html#REVIEWS\" target=\"_blank\"><span class=\"_141TBKA-\"><svg aria-label=\"4.5 of 5 bubbles\" class=\"_3KcXyP0F\" height=\"16\" title=\"4.5 of 5 bubbles\" viewBox=\"0 0 120 24\" width=\"80\"><path d=\"M10.25 1.75a10.25 10.25 0 110 20.5 10.25 10.25 0 110-20.5m24 0a10.25 10.25 0 110 20.5 10.25 10.25 0 110-20.5m24 0a10.25 10.25 0 110 20.5 10.25 10.25 0 110-20.5m24 0a10.25 10.25 0 110 20.5 10.25 10.25 0 110-20.5m24 0a10.25 10.25 0 110 20.5 10.25 10.25 0 110-20.5m0 2.5a5.25 5.25 0 110 15.5\"></path></svg></span><span class=\"w726Ki5B\">477<!-- --> reviews</span></a></span></span></span><span class=\"EHA742uW _16JkOAhd\"><span class=\"_1p0FLy4t\">Closed Now</span></span></div><div class=\"MIajtJFg _1cBs8huC _3d9EnJpt\"><span class=\"EHA742uW\"><span class=\"_1p0FLy4t\">American, Bar</span></span><span class=\"EHA742uW\"><span class=\"_1p0FLy4t\">$$ - $$$</span></span><span class=\"_3iSfzjbL\"><span><span class=\"MUNBf8J0 _2npzmCBq\"><span class=\"jxNFpwcl\"><svg class=\"_2HBN-k68 _2JndpOur\" height=\"1em\" viewBox=\"0 0 24 24\" width=\"1em\"><path d=\"M19.5 2h-15c-.3 0-.5.2-.5.5v19c0 .3.2.5.5.5h15c.3 0 .5-.2.5-.5v-19c0-.3-.2-.5-.5-.5zM12 10.2V12c0 .2-.2.4-.4.4h-1.4v5.3c0 .2-.2.399-.4.399h-.6c-.2.001-.4-.199-.4-.399v-5.3H7.4c-.2 0-.4-.2-.4-.4V6.4c0-.2.2-.4.4-.4h.5c.2 0 .4.2.4.4v3.9H8.9V6.4c0-.2.2-.4.4-.4h.5c.2 0 .4.2.4.4v3.9h.6V6.4c0-.2.2-.4.4-.4h.5c.2 0 .3.2.3.4v3.8zm5 7.4c0 .2-.2.4-.4.4h-.7c-.2 0-.4-.2-.4-.4v-5.3h-1.1c-.2 0-.4-.2-.4-.4V7.4v-.1c0-.7.7-1.3 1.5-1.3s1.5.6 1.5 1.4v10.2z\"></path></svg></span>Menu</span></span></span><span></span></div></div><div class=\"HhAnTQDq\"><div><span class=\"_22fFNzsp\"><svg class=\"_2HBN-k68 _2JndpOur\" height=\"1em\" viewBox=\"0 0 24 24\" width=\"1em\"><path d=\"M12 2C7.745 2 4.27 5.475 4.27 9.73c0 4.539 4.539 9.056 6.971 11.486L12 22l.759-.761c2.433-2.453 6.972-6.97 6.972-11.509C19.73 5.475 16.256 2 12 2zm0 10.986c-1.93 0-3.5-1.569-3.5-3.5 0-1.93 1.57-3.5 3.5-3.5s3.5 1.57 3.5 3.5c0 1.931-1.57 3.5-3.5 3.5z\"></path></svg></span>4.2 mi</div><div>Phoenix</div></div></div><div class=\"_2MLlqQGR\"></div><div class=\"_3bvktyA3\"><div class=\"_3hu2oQ7V _26lf-Ya3\"><span class=\"iXPDyayE\"><svg class=\"_2HBN-k68 _2JndpOur\" height=\"1em\" viewBox=\"0 0 24 24\" width=\"1em\"><path d=\"M2 11h5l-3 5h4l3-5V2H2zM13 2v9h5l-3 5h4l3-5V2z\"></path></svg></span><span><a class=\"_2uEVo25r _3mPt7dFq\" href=\"/ShowUserReviews-g31310-d338188-r597487691-Postino_Winebar-Phoenix_Arizona.html\" target=\"_blank\"><span class=\"_1OfeygW_\">“A place to get out of the rain turned out to be a fabulous stop for <b>happy hour</b>!”</span></a></span></div><div class=\"_3hu2oQ7V n-kovNea\"><span class=\"iXPDyayE\"><svg class=\"_2HBN-k68 _2JndpOur\" height=\"1em\" viewBox=\"0 0 24 24\" width=\"1em\"><path d=\"M2 11h5l-3 5h4l3-5V2H2zM13 2v9h5l-3 5h4l3-5V2z\"></path></svg></span><span><a class=\"_2uEVo25r _3mPt7dFq\" href=\"/ShowUserReviews-g31310-d338188-r686269670-Postino_Winebar-Phoenix_Arizona.html\" target=\"_blank\"><span class=\"_1OfeygW_\">“They had good Kentucky <b>Bourbon</b>.”</span></a></span></div></div><div class=\"_37CxYadq\"></div><div class=\"Dug7cOwy\"><div class=\"_2lOaDlpn\"><a href=\"/Restaurant_Review-g31310-d338188-Reviews-Postino_Winebar-Phoenix_Arizona.html\" target=\"_blank\"><span><button class=\"_1JOGv2rJ _32M3JNKp _3Ffza2n4 _3fiJJkxX\" type=\"button\">Order online</button></span></a></div></div></div></div><div></div></span></div><div class=\"_1llCuDZj\" data-test=\"29_list_item\"><span><div class=\"_1kNOY9zw\"><div class=\"_2jF2URLh\"><span><a class=\"_2uEVo25r _3tdrXOp7\" href=\"/Restaurant_Review-g31350-d1475631-Reviews-Daily_Dose-Scottsdale_Arizona.html\" target=\"_blank\"><div class=\"_2PhdrMP3\"></div><div class=\"_2KPNYP9B\" data-clicksource=\"Photo\"></div></a></span><div><div class=\"_2QJ7e_cW\"><div class=\"_15aaPtHM _50cmFIkv D1m_VFgO _2a-PzfE-\"><span class=\"_1YkiZl2_ _2geKhlYH\"><span class=\"_1tvInqmQ _1T_s6QZp\"><svg class=\"_2HBN-k68 _2JndpOur\" height=\"1em\" viewBox=\"0 0 24 24\" width=\"1em\"><path d=\"M12 2C6.487 2 2 6.487 2 12c0 5.515 4.487 10 10 10 5.515 0 10-4.485 10-10 0-5.513-4.485-10-10-10zm4.688 10.911c-.975 1.188-4.687 4.434-4.687 4.434S8.258 14.1 7.29 12.903c-1.14-1.411-1.12-3.241.049-4.351.611-.58 1.42-.898 2.279-.898s1.668.318 2.279.898l.096.092.09-.087a3.296 3.296 0 012.278-.897c.86 0 1.669.318 2.277.897 1.201 1.139 1.219 2.929.05 4.354z\"></path></svg></span><span class=\"_1tvInqmQ xIyKWMUr\"><svg class=\"_2HBN-k68 _2JndpOur\" height=\"1em\" viewBox=\"0 0 24 24\" width=\"1em\"><path d=\"M14.361 8.768c-.574 0-1.111.211-1.516.594l-.854.812-.861-.819c-.401-.382-.939-.592-1.513-.592s-1.111.21-1.514.593c-.876.832-.589 2.059.048 2.847.726.896 2.961 2.89 3.845 3.667.878-.779 3.098-2.771 3.831-3.665.662-.808.936-2 .047-2.844a2.182 2.182 0 00-1.513-.593z\"></path><path d=\"M12 2C6.486 2 2 6.486 2 12s4.486 10 10 10 10-4.486 10-10S17.514 2 12 2zm4.688 10.911c-.975 1.188-4.687 4.435-4.687 4.435s-3.743-3.247-4.711-4.442c-1.141-1.411-1.12-3.241.049-4.351.61-.58 1.419-.898 2.279-.898s1.668.319 2.278.898l.096.091.09-.086a3.291 3.291 0 012.278-.897c.86 0 1.668.317 2.279.897 1.2 1.138 1.218 2.927.049 4.353z\"></path></svg></span></span></div></div></div></div><div class=\"_2Q7zqOgW\"><div class=\"_2kbTRHSI\"><div class=\"wQjYiB7z\"><span><a class=\"_15_ydu6b\" href=\"/Restaurant_Review-g31350-d1475631-Reviews-Daily_Dose-Scottsdale_Arizona.html\" target=\"_blank\">29<!-- -->. <!-- -->Daily Dose</a></span></div></div><div class=\"_2rmp5aUK\"><div><div class=\"MIajtJFg _1cBs8huC\"><span class=\"_1uEmzgPt EHA742uW\"><span class=\"_1p0FLy4t\"><span><a class=\"_2uEVo25r\" href=\"/Restaurant_Review-g31350-d1475631-Reviews-Daily_Dose-Scottsdale_Arizona.html#REVIEWS\" target=\"_blank\"><span class=\"_141TBKA-\"><svg aria-label=\"4.5 of 5 bubbles\" class=\"_3KcXyP0F\" height=\"16\" title=\"4.5 of 5 bubbles\" viewBox=\"0 0 120 24\" width=\"80\"><path d=\"M10.25 1.75a10.25 10.25 0 110 20.5 10.25 10.25 0 110-20.5m24 0a10.25 10.25 0 110 20.5 10.25 10.25 0 110-20.5m24 0a10.25 10.25 0 110 20.5 10.25 10.25 0 110-20.5m24 0a10.25 10.25 0 110 20.5 10.25 10.25 0 110-20.5m24 0a10.25 10.25 0 110 20.5 10.25 10.25 0 110-20.5m0 2.5a5.25 5.25 0 110 15.5\"></path></svg></span><span class=\"w726Ki5B\">545<!-- --> reviews</span></a></span></span></span><span class=\"EHA742uW\"><span class=\"_1p0FLy4t\">Open Now</span></span></div><div class=\"MIajtJFg _1cBs8huC _3d9EnJpt\"><span class=\"EHA742uW\"><span class=\"_1p0FLy4t\">American</span></span><span class=\"EHA742uW\"><span class=\"_1p0FLy4t\">$$ - $$$</span></span><span class=\"_3iSfzjbL\"><span><span class=\"MUNBf8J0\"><span class=\"jxNFpwcl\"><svg class=\"_2HBN-k68 _2JndpOur\" height=\"1em\" viewBox=\"0 0 24 24\" width=\"1em\"><path d=\"M19.5 2h-15c-.3 0-.5.2-.5.5v19c0 .3.2.5.5.5h15c.3 0 .5-.2.5-.5v-19c0-.3-.2-.5-.5-.5zM12 10.2V12c0 .2-.2.4-.4.4h-1.4v5.3c0 .2-.2.399-.4.399h-.6c-.2.001-.4-.199-.4-.399v-5.3H7.4c-.2 0-.4-.2-.4-.4V6.4c0-.2.2-.4.4-.4h.5c.2 0 .4.2.4.4v3.9H8.9V6.4c0-.2.2-.4.4-.4h.5c.2 0 .4.2.4.4v3.9h.6V6.4c0-.2.2-.4.4-.4h.5c.2 0 .3.2.3.4v3.8zm5 7.4c0 .2-.2.4-.4.4h-.7c-.2 0-.4-.2-.4-.4v-5.3h-1.1c-.2 0-.4-.2-.4-.4V7.4v-.1c0-.7.7-1.3 1.5-1.3s1.5.6 1.5 1.4v10.2z\"></path></svg></span>Menu<svg class=\"_2HBN-k68 _2JndpOur\" height=\"1em\" viewBox=\"0 0 24 24\" width=\"1em\"><path d=\"M7.561 15.854l-1.415-1.415 8.293-8.293H7.854v-2h10v10h-2V7.561z\"></path></svg></span></span></span></div></div></div><div class=\"_2MLlqQGR\"></div><div class=\"_3bvktyA3\"><div class=\"_3hu2oQ7V _26lf-Ya3\"><span class=\"iXPDyayE\"><svg class=\"_2HBN-k68 _2JndpOur\" height=\"1em\" viewBox=\"0 0 24 24\" width=\"1em\"><path d=\"M2 11h5l-3 5h4l3-5V2H2zM13 2v9h5l-3 5h4l3-5V2z\"></path></svg></span><span><a class=\"_2uEVo25r _3mPt7dFq\" href=\"/ShowUserReviews-g31350-d1475631-r749932836-Daily_Dose-Scottsdale_Arizona.html\" target=\"_blank\"><span class=\"_1OfeygW_\">“Finding a quality, healthy”</span></a></span></div><div class=\"_3hu2oQ7V n-kovNea\"><span class=\"iXPDyayE\"><svg class=\"_2HBN-k68 _2JndpOur\" height=\"1em\" viewBox=\"0 0 24 24\" width=\"1em\"><path d=\"M2 11h5l-3 5h4l3-5V2H2zM13 2v9h5l-3 5h4l3-5V2z\"></path></svg></span><span><a class=\"_2uEVo25r _3mPt7dFq\" href=\"/ShowUserReviews-g31350-d1475631-r748875241-Daily_Dose-Scottsdale_Arizona.html\" target=\"_blank\"><span class=\"_1OfeygW_\">“Best breakfast I had all week...”</span></a></span></div></div><div class=\"Dug7cOwy\"></div></div></div><div></div></span></div><div class=\"_1llCuDZj\" data-test=\"30_list_item\"><span><div class=\"_1kNOY9zw\"><div class=\"_2jF2URLh\"><span><a class=\"_2uEVo25r _3tdrXOp7\" href=\"/Restaurant_Review-g31350-d1796631-Reviews-FnB-Scottsdale_Arizona.html\" target=\"_blank\"><div class=\"_2PhdrMP3\"></div><div class=\"_2KPNYP9B\" data-clicksource=\"Photo\"></div></a></span><div><div class=\"_2QJ7e_cW\"><div class=\"_15aaPtHM _50cmFIkv D1m_VFgO _2a-PzfE-\"><span class=\"_1YkiZl2_ _2geKhlYH\"><span class=\"_1tvInqmQ _1T_s6QZp\"><svg class=\"_2HBN-k68 _2JndpOur\" height=\"1em\" viewBox=\"0 0 24 24\" width=\"1em\"><path d=\"M12 2C6.487 2 2 6.487 2 12c0 5.515 4.487 10 10 10 5.515 0 10-4.485 10-10 0-5.513-4.485-10-10-10zm4.688 10.911c-.975 1.188-4.687 4.434-4.687 4.434S8.258 14.1 7.29 12.903c-1.14-1.411-1.12-3.241.049-4.351.611-.58 1.42-.898 2.279-.898s1.668.318 2.279.898l.096.092.09-.087a3.296 3.296 0 012.278-.897c.86 0 1.669.318 2.277.897 1.201 1.139 1.219 2.929.05 4.354z\"></path></svg></span><span class=\"_1tvInqmQ xIyKWMUr\"><svg class=\"_2HBN-k68 _2JndpOur\" height=\"1em\" viewBox=\"0 0 24 24\" width=\"1em\"><path d=\"M14.361 8.768c-.574 0-1.111.211-1.516.594l-.854.812-.861-.819c-.401-.382-.939-.592-1.513-.592s-1.111.21-1.514.593c-.876.832-.589 2.059.048 2.847.726.896 2.961 2.89 3.845 3.667.878-.779 3.098-2.771 3.831-3.665.662-.808.936-2 .047-2.844a2.182 2.182 0 00-1.513-.593z\"></path><path d=\"M12 2C6.486 2 2 6.486 2 12s4.486 10 10 10 10-4.486 10-10S17.514 2 12 2zm4.688 10.911c-.975 1.188-4.687 4.435-4.687 4.435s-3.743-3.247-4.711-4.442c-1.141-1.411-1.12-3.241.049-4.351.61-.58 1.419-.898 2.279-.898s1.668.319 2.278.898l.096.091.09-.086a3.291 3.291 0 012.278-.897c.86 0 1.668.317 2.279.897 1.2 1.138 1.218 2.927.049 4.353z\"></path></svg></span></span></div></div></div></div><div class=\"_2Q7zqOgW\"><div class=\"_2kbTRHSI\"><div class=\"wQjYiB7z\"><span><a class=\"_15_ydu6b\" href=\"/Restaurant_Review-g31350-d1796631-Reviews-FnB-Scottsdale_Arizona.html\" target=\"_blank\">30<!-- -->. <!-- -->FnB</a></span></div></div><div class=\"_2rmp5aUK\"><div><div class=\"MIajtJFg _1cBs8huC\"><span class=\"_1uEmzgPt EHA742uW\"><span class=\"_1p0FLy4t\"><span><a class=\"_2uEVo25r\" href=\"/Restaurant_Review-g31350-d1796631-Reviews-FnB-Scottsdale_Arizona.html#REVIEWS\" target=\"_blank\"><span class=\"_141TBKA-\"><svg aria-label=\"4.5 of 5 bubbles\" class=\"_3KcXyP0F\" height=\"16\" title=\"4.5 of 5 bubbles\" viewBox=\"0 0 120 24\" width=\"80\"><path d=\"M10.25 1.75a10.25 10.25 0 110 20.5 10.25 10.25 0 110-20.5m24 0a10.25 10.25 0 110 20.5 10.25 10.25 0 110-20.5m24 0a10.25 10.25 0 110 20.5 10.25 10.25 0 110-20.5m24 0a10.25 10.25 0 110 20.5 10.25 10.25 0 110-20.5m24 0a10.25 10.25 0 110 20.5 10.25 10.25 0 110-20.5m0 2.5a5.25 5.25 0 110 15.5\"></path></svg></span><span class=\"w726Ki5B\">367<!-- --> reviews</span></a></span></span></span><span class=\"EHA742uW _16JkOAhd\"><span class=\"_1p0FLy4t\">Closed Now</span></span></div><div class=\"MIajtJFg _1cBs8huC _3d9EnJpt\"><span class=\"EHA742uW\"><span class=\"_1p0FLy4t\">American</span></span><span class=\"EHA742uW\"><span class=\"_1p0FLy4t\">$$ - $$$</span></span></div></div></div><div class=\"_2MLlqQGR\"></div><div class=\"_3bvktyA3\"><div class=\"_3hu2oQ7V _26lf-Ya3\"><span class=\"iXPDyayE\"><svg class=\"_2HBN-k68 _2JndpOur\" height=\"1em\" viewBox=\"0 0 24 24\" width=\"1em\"><path d=\"M2 11h5l-3 5h4l3-5V2H2zM13 2v9h5l-3 5h4l3-5V2z\"></path></svg></span><span><a class=\"_2uEVo25r _3mPt7dFq\" href=\"/ShowUserReviews-g31350-d1796631-r773571303-FnB-Scottsdale_Arizona.html\" target=\"_blank\"><span class=\"_1OfeygW_\">“Our table began with a varied assortment of apps: a radish <b>salad</b>, an okra sid...”</span></a></span></div><div class=\"_3hu2oQ7V n-kovNea\"><span class=\"iXPDyayE\"><svg class=\"_2HBN-k68 _2JndpOur\" height=\"1em\" viewBox=\"0 0 24 24\" width=\"1em\"><path d=\"M2 11h5l-3 5h4l3-5V2H2zM13 2v9h5l-3 5h4l3-5V2z\"></path></svg></span><span><a class=\"_2uEVo25r _3mPt7dFq\" href=\"/ShowUserReviews-g31350-d1796631-r746094475-FnB-Scottsdale_Arizona.html\" target=\"_blank\"><span class=\"_1OfeygW_\">“The tangerine <b>salad</b> was very good as the freshness of ingredients was evident.”</span></a></span></div></div><div class=\"_37CxYadq\"></div><div class=\"Dug7cOwy\"><div class=\"_2lOaDlpn\"><a href=\"/Restaurant_Review-g31350-d1796631-Reviews-FnB-Scottsdale_Arizona.html\" target=\"_blank\"><span><button class=\"_1JOGv2rJ _32M3JNKp _3Ffza2n4 _3fiJJkxX\" type=\"button\">Order online</button></span></a></div></div></div></div><div></div></span></div></div>"
      ]
     },
     "metadata": {},
     "execution_count": 9
    }
   ],
   "source": [
    "items = soup.find(class_  = \"_1kXteagE\")\n",
    "items"
   ]
  },
  {
   "cell_type": "code",
   "execution_count": 14,
   "metadata": {},
   "outputs": [
    {
     "output_type": "execute_result",
     "data": {
      "text/plain": [
       "l-3 5h4l3-5V2z\"></path></svg></span><span><a class=\"_2uEVo25r _3mPt7dFq\" href=\"/ShowUserReviews-g31350-d335373-r675089468-HIRO_Sushi-Scottsdale_Arizona.html\" target=\"_blank\"><span class=\"_1OfeygW_\">“Gomae, agedashi tofu, <b>Salmon</b> and Saba s...”</span></a></span></div></div><div class=\"Dug7cOwy\"></div></div></div><div></div></span></div>,\n",
       " <div class=\"_1llCuDZj\" data-test=\"27_list_item\"><span><div class=\"_1kNOY9zw\"><div class=\"_2jF2URLh\"><span><a class=\"_2uEVo25r _3tdrXOp7\" href=\"/Restaurant_Review-g31350-d6017865-Reviews-Cornish_Pasty_Co-Scottsdale_Arizona.html\" target=\"_blank\"><div class=\"_2PhdrMP3\"></div><div class=\"_2KPNYP9B\" data-clicksource=\"Photo\"></div></a></span><div><div class=\"_2QJ7e_cW\"><div class=\"_15aaPtHM _50cmFIkv D1m_VFgO _2a-PzfE-\"><span class=\"_1YkiZl2_ _2geKhlYH\"><span class=\"_1tvInqmQ _1T_s6QZp\"><svg class=\"_2HBN-k68 _2JndpOur\" height=\"1em\" viewBox=\"0 0 24 24\" width=\"1em\"><path d=\"M12 2C6.487 2 2 6.487 2 12c0 5.515 4.487 10 10 10 5.515 0 10-4.485 10-10 0-5.513-4.485-10-10-10zm4.688 10.911c-.975 1.188-4.687 4.434-4.687 4.434S8.258 14.1 7.29 12.903c-1.14-1.411-1.12-3.241.049-4.351.611-.58 1.42-.898 2.279-.898s1.668.318 2.279.898l.096.092.09-.087a3.296 3.296 0 012.278-.897c.86 0 1.669.318 2.277.897 1.201 1.139 1.219 2.929.05 4.354z\"></path></svg></span><span class=\"_1tvInqmQ xIyKWMUr\"><svg class=\"_2HBN-k68 _2JndpOur\" height=\"1em\" viewBox=\"0 0 24 24\" width=\"1em\"><path d=\"M14.361 8.768c-.574 0-1.111.211-1.516.594l-.854.812-.861-.819c-.401-.382-.939-.592-1.513-.592s-1.111.21-1.514.593c-.876.832-.589 2.059.048 2.847.726.896 2.961 2.89 3.845 3.667.878-.779 3.098-2.771 3.831-3.665.662-.808.936-2 .047-2.844a2.182 2.182 0 00-1.513-.593z\"></path><path d=\"M12 2C6.486 2 2 6.486 2 12s4.486 10 10 10 10-4.486 10-10S17.514 2 12 2zm4.688 10.911c-.975 1.188-4.687 4.435-4.687 4.435s-3.743-3.247-4.711-4.442c-1.141-1.411-1.12-3.241.049-4.351.61-.58 1.419-.898 2.279-.898s1.668.319 2.278.898l.096.091.09-.086a3.291 3.291 0 012.278-.897c.86 0 1.668.317 2.279.897 1.2 1.138 1.218 2.927.049 4.353z\"></path></svg></span></span></div></div></div></div><div class=\"_2Q7zqOgW\"><div class=\"_2kbTRHSI\"><div class=\"wQjYiB7z\"><span><a class=\"_15_ydu6b\" href=\"/Restaurant_Review-g31350-d6017865-Reviews-Cornish_Pasty_Co-Scottsdale_Arizona.html\" target=\"_blank\">27<!-- -->. <!-- -->Cornish Pasty Co</a></span></div></div><div class=\"_2rmp5aUK\"><div><div class=\"MIajtJFg _1cBs8huC\"><span class=\"_1uEmzgPt EHA742uW\"><span class=\"_1p0FLy4t\"><span><a class=\"_2uEVo25r\" href=\"/Restaurant_Review-g31350-d6017865-Reviews-Cornish_Pasty_Co-Scottsdale_Arizona.html#REVIEWS\" target=\"_blank\"><span class=\"_141TBKA-\"><svg aria-label=\"4.5 of 5 bubbles\" class=\"_3KcXyP0F\" height=\"16\" title=\"4.5 of 5 bubbles\" viewBox=\"0 0 120 24\" width=\"80\"><path d=\"M10.25 1.75a10.25 10.25 0 110 20.5 10.25 10.25 0 110-20.5m24 0a10.25 10.25 0 110 20.5 10.25 10.25 0 110-20.5m24 0a10.25 10.25 0 110 20.5 10.25 10.25 0 110-20.5m24 0a10.25 10.25 0 110 20.5 10.25 10.25 0 110-20.5m24 0a10.25 10.25 0 110 20.5 10.25 10.25 0 110-20.5m0 2.5a5.25 5.25 0 110 15.5\"></path></svg></span><span class=\"w726Ki5B\">233<!-- --> reviews</span></a></span></span></span><span class=\"EHA742uW _16JkOAhd\"><span class=\"_1p0FLy4t\">Closed Now</span></span></div><div class=\"MIajtJFg _1cBs8huC _3d9EnJpt\"><span class=\"EHA742uW\"><span class=\"_1p0FLy4t\">Bar, British</span></span><span class=\"EHA742uW\"><span class=\"_1p0FLy4t\">$$ - $$$</span></span><span class=\"_3iSfzjbL\"><span><span class=\"MUNBf8J0\"><span class=\"jxNFpwcl\"><svg class=\"_2HBN-k68 _2JndpOur\" height=\"1em\" viewBox=\"0 0 24 24\" width=\"1em\"><path d=\"M19.5 2h-15c-.3 0-.5.2-.5.5v19c0 .3.2.5.5.5h15c.3 0 .5-.2.5-.5v-19c0-.3-.2-.5-.5-.5zM12 10.2V12c0 .2-.2.4-.4.4h-1.4v5.3c0 .2-.2.399-.4.399h-.6c-.2.001-.4-.199-.4-.399v-5.3H7.4c-.2 0-.4-.2-.4-.4V6.4c0-.2.2-.4.4-.4h.5c.2 0 .4.2.4.4v3.9H8.9V6.4c0-.2.2-.4.4-.4h.5c.2 0 .4.2.4.4v3.9h.6V6.4c0-.2.2-.4.4-.4h.5c.2 0 .3.2.3.4v3.8zm5 7.4c0 .2-.2.4-.4.4h-.7c-.2 0-.4-.2-.4-.4v-5.3h-1.1c-.2 0-.4-.2-.4-.4V7.4v-.1c0-.7.7-1.3 1.5-1.3s1.5.6 1.5 1.4v10.2z\"></path></svg></span>Menu<svg class=\"_2HBN-k68 _2JndpOur\" height=\"1em\" viewBox=\"0 0 24 24\" width=\"1em\"><path d=\"M7.561 15.854l-1.415-1.415 8.293-8.293H7.854v-2h10v10h-2V7.561z\"></path></svg></span></span></span></div></div></div><div class=\"_2MLlqQGR\"></div><div class=\"_3bvktyA3\"><div class=\"_3hu2oQ7V _26lf-Ya3\"><span class=\"iXPDyayE\"><svg class=\"_2HBN-k68 _2JndpOur\" height=\"1em\" viewBox=\"0 0 24 24\" width=\"1em\"><path d=\"M2 11h5l-3 5h4l3-5V2H2zM13 2v9h5l-3 5h4l3-5V2z\"></path></svg></span><span><a class=\"_2uEVo25r _3mPt7dFq\" href=\"/ShowUserReviews-g31350-d6017865-r777664353-Cornish_Pasty_Co-Scottsdale_Arizona.html\" target=\"_blank\"><span class=\"_1OfeygW_\">“Great authentic pasties and <b>meatballs</b>!”</span></a></span></div><div class=\"_3hu2oQ7V n-kovNea\"><span class=\"iXPDyayE\"><svg class=\"_2HBN-k68 _2JndpOur\" height=\"1em\" viewBox=\"0 0 24 24\" width=\"1em\"><path d=\"M2 11h5l-3 5h4l3-5V2H2zM13 2v9h5l-3 5h4l3-5V2z\"></path></svg></span><span><a class=\"_2uEVo25r _3mPt7dFq\" href=\"/ShowUserReviews-g31350-d6017865-r771066980-Cornish_Pasty_Co-Scottsdale_Arizona.html\" target=\"_blank\"><span class=\"_1OfeygW_\">“Waitress said no <b>mushy peas</b> now can't get them from the UK.”</span></a></span></div></div><div class=\"Dug7cOwy\"></div></div></div><div></div></span></div>,\n",
       " <div class=\"_1llCuDZj\" data-test=\"28_list_item\"><span><div class=\"_1kNOY9zw\"><div class=\"_2jF2URLh\"><span><a class=\"_2uEVo25r _3tdrXOp7\" href=\"/Restaurant_Review-g31310-d338188-Reviews-Postino_Winebar-Phoenix_Arizona.html\" target=\"_blank\"><div class=\"_2PhdrMP3\"></div><div class=\"_2KPNYP9B\" data-clicksource=\"Photo\"></div></a></span><div><div class=\"_2QJ7e_cW\"><div class=\"_15aaPtHM _50cmFIkv D1m_VFgO _2a-PzfE-\"><span class=\"_1YkiZl2_ _2geKhlYH\"><span class=\"_1tvInqmQ _1T_s6QZp\"><svg class=\"_2HBN-k68 _2JndpOur\" height=\"1em\" viewBox=\"0 0 24 24\" width=\"1em\"><path d=\"M12 2C6.487 2 2 6.487 2 12c0 5.515 4.487 10 10 10 5.515 0 10-4.485 10-10 0-5.513-4.485-10-10-10zm4.688 10.911c-.975 1.188-4.687 4.434-4.687 4.434S8.258 14.1 7.29 12.903c-1.14-1.411-1.12-3.241.049-4.351.611-.58 1.42-.898 2.279-.898s1.668.318 2.279.898l.096.092.09-.087a3.296 3.296 0 012.278-.897c.86 0 1.669.318 2.277.897 1.201 1.139 1.219 2.929.05 4.354z\"></path></svg></span><span class=\"_1tvInqmQ xIyKWMUr\"><svg class=\"_2HBN-k68 _2JndpOur\" height=\"1em\" viewBox=\"0 0 24 24\" width=\"1em\"><path d=\"M14.361 8.768c-.574 0-1.111.211-1.516.594l-.854.812-.861-.819c-.401-.382-.939-.592-1.513-.592s-1.111.21-1.514.593c-.876.832-.589 2.059.048 2.847.726.896 2.961 2.89 3.845 3.667.878-.779 3.098-2.771 3.831-3.665.662-.808.936-2 .047-2.844a2.182 2.182 0 00-1.513-.593z\"></path><path d=\"M12 2C6.486 2 2 6.486 2 12s4.486 10 10 10 10-4.486 10-10S17.514 2 12 2zm4.688 10.911c-.975 1.188-4.687 4.435-4.687 4.435s-3.743-3.247-4.711-4.442c-1.141-1.411-1.12-3.241.049-4.351.61-.58 1.419-.898 2.279-.898s1.668.319 2.278.898l.096.091.09-.086a3.291 3.291 0 012.278-.897c.86 0 1.668.317 2.279.897 1.2 1.138 1.218 2.927.049 4.353z\"></path></svg></span></span></div></div></div></div><div class=\"_2Q7zqOgW\"><div class=\"_2kbTRHSI\"><div class=\"wQjYiB7z\"><span><a class=\"_15_ydu6b\" href=\"/Restaurant_Review-g31310-d338188-Reviews-Postino_Winebar-Phoenix_Arizona.html\" target=\"_blank\">28<!-- -->. <!-- -->Postino Winebar</a></span></div></div><div class=\"_2rmp5aUK\"><div><div class=\"MIajtJFg _1cBs8huC\"><span class=\"_1uEmzgPt EHA742uW\"><span class=\"_1p0FLy4t\"><span><a class=\"_2uEVo25r\" href=\"/Restaurant_Review-g31310-d338188-Reviews-Postino_Winebar-Phoenix_Arizona.html#REVIEWS\" target=\"_blank\"><span class=\"_141TBKA-\"><svg aria-label=\"4.5 of 5 bubbles\" class=\"_3KcXyP0F\" height=\"16\" title=\"4.5 of 5 bubbles\" viewBox=\"0 0 120 24\" width=\"80\"><path d=\"M10.25 1.75a10.25 10.25 0 110 20.5 10.25 10.25 0 110-20.5m24 0a10.25 10.25 0 110 20.5 10.25 10.25 0 110-20.5m24 0a10.25 10.25 0 110 20.5 10.25 10.25 0 110-20.5m24 0a10.25 10.25 0 110 20.5 10.25 10.25 0 110-20.5m24 0a10.25 10.25 0 110 20.5 10.25 10.25 0 110-20.5m0 2.5a5.25 5.25 0 110 15.5\"></path></svg></span><span class=\"w726Ki5B\">477<!-- --> reviews</span></a></span></span></span><span class=\"EHA742uW _16JkOAhd\"><span class=\"_1p0FLy4t\">Closed Now</span></span></div><div class=\"MIajtJFg _1cBs8huC _3d9EnJpt\"><span class=\"EHA742uW\"><span class=\"_1p0FLy4t\">American, Bar</span></span><span class=\"EHA742uW\"><span class=\"_1p0FLy4t\">$$ - $$$</span></span><span class=\"_3iSfzjbL\"><span><span class=\"MUNBf8J0 _2npzmCBq\"><span class=\"jxNFpwcl\"><svg class=\"_2HBN-k68 _2JndpOur\" height=\"1em\" viewBox=\"0 0 24 24\" width=\"1em\"><path d=\"M19.5 2h-15c-.3 0-.5.2-.5.5v19c0 .3.2.5.5.5h15c.3 0 .5-.2.5-.5v-19c0-.3-.2-.5-.5-.5zM12 10.2V12c0 .2-.2.4-.4.4h-1.4v5.3c0 .2-.2.399-.4.399h-.6c-.2.001-.4-.199-.4-.399v-5.3H7.4c-.2 0-.4-.2-.4-.4V6.4c0-.2.2-.4.4-.4h.5c.2 0 .4.2.4.4v3.9H8.9V6.4c0-.2.2-.4.4-.4h.5c.2 0 .4.2.4.4v3.9h.6V6.4c0-.2.2-.4.4-.4h.5c.2 0 .3.2.3.4v3.8zm5 7.4c0 .2-.2.4-.4.4h-.7c-.2 0-.4-.2-.4-.4v-5.3h-1.1c-.2 0-.4-.2-.4-.4V7.4v-.1c0-.7.7-1.3 1.5-1.3s1.5.6 1.5 1.4v10.2z\"></path></svg></span>Menu</span></span></span><span></span></div></div><div class=\"HhAnTQDq\"><div><span class=\"_22fFNzsp\"><svg class=\"_2HBN-k68 _2JndpOur\" height=\"1em\" viewBox=\"0 0 24 24\" width=\"1em\"><path d=\"M12 2C7.745 2 4.27 5.475 4.27 9.73c0 4.539 4.539 9.056 6.971 11.486L12 22l.759-.761c2.433-2.453 6.972-6.97 6.972-11.509C19.73 5.475 16.256 2 12 2zm0 10.986c-1.93 0-3.5-1.569-3.5-3.5 0-1.93 1.57-3.5 3.5-3.5s3.5 1.57 3.5 3.5c0 1.931-1.57 3.5-3.5 3.5z\"></path></svg></span>4.2 mi</div><div>Phoenix</div></div></div><div class=\"_2MLlqQGR\"></div><div class=\"_3bvktyA3\"><div class=\"_3hu2oQ7V _26lf-Ya3\"><span class=\"iXPDyayE\"><svg class=\"_2HBN-k68 _2JndpOur\" height=\"1em\" viewBox=\"0 0 24 24\" width=\"1em\"><path d=\"M2 11h5l-3 5h4l3-5V2H2zM13 2v9h5l-3 5h4l3-5V2z\"></path></svg></span><span><a class=\"_2uEVo25r _3mPt7dFq\" href=\"/ShowUserReviews-g31310-d338188-r597487691-Postino_Winebar-Phoenix_Arizona.html\" target=\"_blank\"><span class=\"_1OfeygW_\">“A place to get out of the rain turned out to be a fabulous stop for <b>happy hour</b>!”</span></a></span></div><div class=\"_3hu2oQ7V n-kovNea\"><span class=\"iXPDyayE\"><svg class=\"_2HBN-k68 _2JndpOur\" height=\"1em\" viewBox=\"0 0 24 24\" width=\"1em\"><path d=\"M2 11h5l-3 5h4l3-5V2H2zM13 2v9h5l-3 5h4l3-5V2z\"></path></svg></span><span><a class=\"_2uEVo25r _3mPt7dFq\" href=\"/ShowUserReviews-g31310-d338188-r686269670-Postino_Winebar-Phoenix_Arizona.html\" target=\"_blank\"><span class=\"_1OfeygW_\">“They had good Kentucky <b>Bourbon</b>.”</span></a></span></div></div><div class=\"_37CxYadq\"></div><div class=\"Dug7cOwy\"><div class=\"_2lOaDlpn\"><a href=\"/Restaurant_Review-g31310-d338188-Reviews-Postino_Winebar-Phoenix_Arizona.html\" target=\"_blank\"><span><button class=\"_1JOGv2rJ _32M3JNKp _3Ffza2n4 _3fiJJkxX\" type=\"button\">Order online</button></span></a></div></div></div></div><div></div></span></div>,\n",
       " <div class=\"_1llCuDZj\" data-test=\"29_list_item\"><span><div class=\"_1kNOY9zw\"><div class=\"_2jF2URLh\"><span><a class=\"_2uEVo25r _3tdrXOp7\" href=\"/Restaurant_Review-g31350-d1475631-Reviews-Daily_Dose-Scottsdale_Arizona.html\" target=\"_blank\"><div class=\"_2PhdrMP3\"></div><div class=\"_2KPNYP9B\" data-clicksource=\"Photo\"></div></a></span><div><div class=\"_2QJ7e_cW\"><div class=\"_15aaPtHM _50cmFIkv D1m_VFgO _2a-PzfE-\"><span class=\"_1YkiZl2_ _2geKhlYH\"><span class=\"_1tvInqmQ _1T_s6QZp\"><svg class=\"_2HBN-k68 _2JndpOur\" height=\"1em\" viewBox=\"0 0 24 24\" width=\"1em\"><path d=\"M12 2C6.487 2 2 6.487 2 12c0 5.515 4.487 10 10 10 5.515 0 10-4.485 10-10 0-5.513-4.485-10-10-10zm4.688 10.911c-.975 1.188-4.687 4.434-4.687 4.434S8.258 14.1 7.29 12.903c-1.14-1.411-1.12-3.241.049-4.351.611-.58 1.42-.898 2.279-.898s1.668.318 2.279.898l.096.092.09-.087a3.296 3.296 0 012.278-.897c.86 0 1.669.318 2.277.897 1.201 1.139 1.219 2.929.05 4.354z\"></path></svg></span><span class=\"_1tvInqmQ xIyKWMUr\"><svg class=\"_2HBN-k68 _2JndpOur\" height=\"1em\" viewBox=\"0 0 24 24\" width=\"1em\"><path d=\"M14.361 8.768c-.574 0-1.111.211-1.516.594l-.854.812-.861-.819c-.401-.382-.939-.592-1.513-.592s-1.111.21-1.514.593c-.876.832-.589 2.059.048 2.847.726.896 2.961 2.89 3.845 3.667.878-.779 3.098-2.771 3.831-3.665.662-.808.936-2 .047-2.844a2.182 2.182 0 00-1.513-.593z\"></path><path d=\"M12 2C6.486 2 2 6.486 2 12s4.486 10 10 10 10-4.486 10-10S17.514 2 12 2zm4.688 10.911c-.975 1.188-4.687 4.435-4.687 4.435s-3.743-3.247-4.711-4.442c-1.141-1.411-1.12-3.241.049-4.351.61-.58 1.419-.898 2.279-.898s1.668.319 2.278.898l.096.091.09-.086a3.291 3.291 0 012.278-.897c.86 0 1.668.317 2.279.897 1.2 1.138 1.218 2.927.049 4.353z\"></path></svg></span></span></div></div></div></div><div class=\"_2Q7zqOgW\"><div class=\"_2kbTRHSI\"><div class=\"wQjYiB7z\"><span><a class=\"_15_ydu6b\" href=\"/Restaurant_Review-g31350-d1475631-Reviews-Daily_Dose-Scottsdale_Arizona.html\" target=\"_blank\">29<!-- -->. <!-- -->Daily Dose</a></span></div></div><div class=\"_2rmp5aUK\"><div><div class=\"MIajtJFg _1cBs8huC\"><span class=\"_1uEmzgPt EHA742uW\"><span class=\"_1p0FLy4t\"><span><a class=\"_2uEVo25r\" href=\"/Restaurant_Review-g31350-d1475631-Reviews-Daily_Dose-Scottsdale_Arizona.html#REVIEWS\" target=\"_blank\"><span class=\"_141TBKA-\"><svg aria-label=\"4.5 of 5 bubbles\" class=\"_3KcXyP0F\" height=\"16\" title=\"4.5 of 5 bubbles\" viewBox=\"0 0 120 24\" width=\"80\"><path d=\"M10.25 1.75a10.25 10.25 0 110 20.5 10.25 10.25 0 110-20.5m24 0a10.25 10.25 0 110 20.5 10.25 10.25 0 110-20.5m24 0a10.25 10.25 0 110 20.5 10.25 10.25 0 110-20.5m24 0a10.25 10.25 0 110 20.5 10.25 10.25 0 110-20.5m24 0a10.25 10.25 0 110 20.5 10.25 10.25 0 110-20.5m0 2.5a5.25 5.25 0 110 15.5\"></path></svg></span><span class=\"w726Ki5B\">545<!-- --> reviews</span></a></span></span></span><span class=\"EHA742uW\"><span class=\"_1p0FLy4t\">Open Now</span></span></div><div class=\"MIajtJFg _1cBs8huC _3d9EnJpt\"><span class=\"EHA742uW\"><span class=\"_1p0FLy4t\">American</span></span><span class=\"EHA742uW\"><span class=\"_1p0FLy4t\">$$ - $$$</span></span><span class=\"_3iSfzjbL\"><span><span class=\"MUNBf8J0\"><span class=\"jxNFpwcl\"><svg class=\"_2HBN-k68 _2JndpOur\" height=\"1em\" viewBox=\"0 0 24 24\" width=\"1em\"><path d=\"M19.5 2h-15c-.3 0-.5.2-.5.5v19c0 .3.2.5.5.5h15c.3 0 .5-.2.5-.5v-19c0-.3-.2-.5-.5-.5zM12 10.2V12c0 .2-.2.4-.4.4h-1.4v5.3c0 .2-.2.399-.4.399h-.6c-.2.001-.4-.199-.4-.399v-5.3H7.4c-.2 0-.4-.2-.4-.4V6.4c0-.2.2-.4.4-.4h.5c.2 0 .4.2.4.4v3.9H8.9V6.4c0-.2.2-.4.4-.4h.5c.2 0 .4.2.4.4v3.9h.6V6.4c0-.2.2-.4.4-.4h.5c.2 0 .3.2.3.4v3.8zm5 7.4c0 .2-.2.4-.4.4h-.7c-.2 0-.4-.2-.4-.4v-5.3h-1.1c-.2 0-.4-.2-.4-.4V7.4v-.1c0-.7.7-1.3 1.5-1.3s1.5.6 1.5 1.4v10.2z\"></path></svg></span>Menu<svg class=\"_2HBN-k68 _2JndpOur\" height=\"1em\" viewBox=\"0 0 24 24\" width=\"1em\"><path d=\"M7.561 15.854l-1.415-1.415 8.293-8.293H7.854v-2h10v10h-2V7.561z\"></path></svg></span></span></span></div></div></div><div class=\"_2MLlqQGR\"></div><div class=\"_3bvktyA3\"><div class=\"_3hu2oQ7V _26lf-Ya3\"><span class=\"iXPDyayE\"><svg class=\"_2HBN-k68 _2JndpOur\" height=\"1em\" viewBox=\"0 0 24 24\" width=\"1em\"><path d=\"M2 11h5l-3 5h4l3-5V2H2zM13 2v9h5l-3 5h4l3-5V2z\"></path></svg></span><span><a class=\"_2uEVo25r _3mPt7dFq\" href=\"/ShowUserReviews-g31350-d1475631-r749932836-Daily_Dose-Scottsdale_Arizona.html\" target=\"_blank\"><span class=\"_1OfeygW_\">“Finding a quality, healthy”</span></a></span></div><div class=\"_3hu2oQ7V n-kovNea\"><span class=\"iXPDyayE\"><svg class=\"_2HBN-k68 _2JndpOur\" height=\"1em\" viewBox=\"0 0 24 24\" width=\"1em\"><path d=\"M2 11h5l-3 5h4l3-5V2H2zM13 2v9h5l-3 5h4l3-5V2z\"></path></svg></span><span><a class=\"_2uEVo25r _3mPt7dFq\" href=\"/ShowUserReviews-g31350-d1475631-r748875241-Daily_Dose-Scottsdale_Arizona.html\" target=\"_blank\"><span class=\"_1OfeygW_\">“Best breakfast I had all week...”</span></a></span></div></div><div class=\"Dug7cOwy\"></div></div></div><div></div></span></div>,\n",
       " <div class=\"_1llCuDZj\" data-test=\"30_list_item\"><span><div class=\"_1kNOY9zw\"><div class=\"_2jF2URLh\"><span><a class=\"_2uEVo25r _3tdrXOp7\" href=\"/Restaurant_Review-g31350-d1796631-Reviews-FnB-Scottsdale_Arizona.html\" target=\"_blank\"><div class=\"_2PhdrMP3\"></div><div class=\"_2KPNYP9B\" data-clicksource=\"Photo\"></div></a></span><div><div class=\"_2QJ7e_cW\"><div class=\"_15aaPtHM _50cmFIkv D1m_VFgO _2a-PzfE-\"><span class=\"_1YkiZl2_ _2geKhlYH\"><span class=\"_1tvInqmQ _1T_s6QZp\"><svg class=\"_2HBN-k68 _2JndpOur\" height=\"1em\" viewBox=\"0 0 24 24\" width=\"1em\"><path d=\"M12 2C6.487 2 2 6.487 2 12c0 5.515 4.487 10 10 10 5.515 0 10-4.485 10-10 0-5.513-4.485-10-10-10zm4.688 10.911c-.975 1.188-4.687 4.434-4.687 4.434S8.258 14.1 7.29 12.903c-1.14-1.411-1.12-3.241.049-4.351.611-.58 1.42-.898 2.279-.898s1.668.318 2.279.898l.096.092.09-.087a3.296 3.296 0 012.278-.897c.86 0 1.669.318 2.277.897 1.201 1.139 1.219 2.929.05 4.354z\"></path></svg></span><span class=\"_1tvInqmQ xIyKWMUr\"><svg class=\"_2HBN-k68 _2JndpOur\" height=\"1em\" viewBox=\"0 0 24 24\" width=\"1em\"><path d=\"M14.361 8.768c-.574 0-1.111.211-1.516.594l-.854.812-.861-.819c-.401-.382-.939-.592-1.513-.592s-1.111.21-1.514.593c-.876.832-.589 2.059.048 2.847.726.896 2.961 2.89 3.845 3.667.878-.779 3.098-2.771 3.831-3.665.662-.808.936-2 .047-2.844a2.182 2.182 0 00-1.513-.593z\"></path><path d=\"M12 2C6.486 2 2 6.486 2 12s4.486 10 10 10 10-4.486 10-10S17.514 2 12 2zm4.688 10.911c-.975 1.188-4.687 4.435-4.687 4.435s-3.743-3.247-4.711-4.442c-1.141-1.411-1.12-3.241.049-4.351.61-.58 1.419-.898 2.279-.898s1.668.319 2.278.898l.096.091.09-.086a3.291 3.291 0 012.278-.897c.86 0 1.668.317 2.279.897 1.2 1.138 1.218 2.927.049 4.353z\"></path></svg></span></span></div></div></div></div><div class=\"_2Q7zqOgW\"><div class=\"_2kbTRHSI\"><div class=\"wQjYiB7z\"><span><a class=\"_15_ydu6b\" href=\"/Restaurant_Review-g31350-d1796631-Reviews-FnB-Scottsdale_Arizona.html\" target=\"_blank\">30<!-- -->. <!-- -->FnB</a></span></div></div><div class=\"_2rmp5aUK\"><div><div class=\"MIajtJFg _1cBs8huC\"><span class=\"_1uEmzgPt EHA742uW\"><span class=\"_1p0FLy4t\"><span><a class=\"_2uEVo25r\" href=\"/Restaurant_Review-g31350-d1796631-Reviews-FnB-Scottsdale_Arizona.html#REVIEWS\" target=\"_blank\"><span class=\"_141TBKA-\"><svg aria-label=\"4.5 of 5 bubbles\" class=\"_3KcXyP0F\" height=\"16\" title=\"4.5 of 5 bubbles\" viewBox=\"0 0 120 24\" width=\"80\"><path d=\"M10.25 1.75a10.25 10.25 0 110 20.5 10.25 10.25 0 110-20.5m24 0a10.25 10.25 0 110 20.5 10.25 10.25 0 110-20.5m24 0a10.25 10.25 0 110 20.5 10.25 10.25 0 110-20.5m24 0a10.25 10.25 0 110 20.5 10.25 10.25 0 110-20.5m24 0a10.25 10.25 0 110 20.5 10.25 10.25 0 110-20.5m0 2.5a5.25 5.25 0 110 15.5\"></path></svg></span><span class=\"w726Ki5B\">367<!-- --> reviews</span></a></span></span></span><span class=\"EHA742uW _16JkOAhd\"><span class=\"_1p0FLy4t\">Closed Now</span></span></div><div class=\"MIajtJFg _1cBs8huC _3d9EnJpt\"><span class=\"EHA742uW\"><span class=\"_1p0FLy4t\">American</span></span><span class=\"EHA742uW\"><span class=\"_1p0FLy4t\">$$ - $$$</span></span></div></div></div><div class=\"_2MLlqQGR\"></div><div class=\"_3bvktyA3\"><div class=\"_3hu2oQ7V _26lf-Ya3\"><span class=\"iXPDyayE\"><svg class=\"_2HBN-k68 _2JndpOur\" height=\"1em\" viewBox=\"0 0 24 24\" width=\"1em\"><path d=\"M2 11h5l-3 5h4l3-5V2H2zM13 2v9h5l-3 5h4l3-5V2z\"></path></svg></span><span><a class=\"_2uEVo25r _3mPt7dFq\" href=\"/ShowUserReviews-g31350-d1796631-r773571303-FnB-Scottsdale_Arizona.html\" target=\"_blank\"><span class=\"_1OfeygW_\">“Our table began with a varied assortment of apps: a radish <b>salad</b>, an okra sid...”</span></a></span></div><div class=\"_3hu2oQ7V n-kovNea\"><span class=\"iXPDyayE\"><svg class=\"_2HBN-k68 _2JndpOur\" height=\"1em\" viewBox=\"0 0 24 24\" width=\"1em\"><path d=\"M2 11h5l-3 5h4l3-5V2H2zM13 2v9h5l-3 5h4l3-5V2z\"></path></svg></span><span><a class=\"_2uEVo25r _3mPt7dFq\" href=\"/ShowUserReviews-g31350-d1796631-r746094475-FnB-Scottsdale_Arizona.html\" target=\"_blank\"><span class=\"_1OfeygW_\">“The tangerine <b>salad</b> was very good as the freshness of ingredients was evident.”</span></a></span></div></div><div class=\"_37CxYadq\"></div><div class=\"Dug7cOwy\"><div class=\"_2lOaDlpn\"><a href=\"/Restaurant_Review-g31350-d1796631-Reviews-FnB-Scottsdale_Arizona.html\" target=\"_blank\"><span><button class=\"_1JOGv2rJ _32M3JNKp _3Ffza2n4 _3fiJJkxX\" type=\"button\">Order online</button></span></a></div></div></div></div><div></div></span></div>]"
      ]
     },
     "metadata": {},
     "execution_count": 14
    }
   ],
   "source": [
    "restaurant = items.find_all(class_ = \"_1llCuDZj\")\n",
    "restaurant"
   ]
  },
  {
   "cell_type": "code",
   "execution_count": 46,
   "metadata": {},
   "outputs": [
    {
     "output_type": "stream",
     "name": "stdout",
     "text": [
      "JOJO Coffeehouse\n"
     ]
    }
   ],
   "source": [
    "for i in restaurant:\n",
    "    restaurant_name = i.find(class_ = \"_2kbTRHSI\")\n",
    "    rest_name = restaurant_name.find(class_ = \"wQjYiB7z\")\n",
    "    #restaur_name = rest_name.find(class_ = \"_15_ydu6b\")\n",
    "    restaur_name = rest_name.span.find(href = \"/Restaurant_Review-g31350-d15614125-Reviews-JOJO_Coffeehouse-Scottsdale_Arizona.html\")\n",
    "    if restaur_name != None:\n",
    "        print(restaur_name.get_text())\n",
    "    #print(rest_name.a.get_text())"
   ]
  },
  {
   "cell_type": "code",
   "execution_count": 66,
   "metadata": {
    "tags": []
   },
   "outputs": [
    {
     "output_type": "execute_result",
     "data": {
      "text/plain": [
       "['ZuZu at Hotel Valley Ho',\n",
       " '1. Cafe Monarch',\n",
       " '2. Mowry & Cotton',\n",
       " \"3. Franco's Italian Caffe\",\n",
       " '4. The Capital Grille',\n",
       " \"5. Butterfield's Pancake House\",\n",
       " 'JOJO Coffeehouse',\n",
       " '6. Craft 64',\n",
       " '7. Virtu',\n",
       " '8. Rehab Burger Therapy',\n",
       " '9. Butters Pancakes & Cafe',\n",
       " '10. Grassroots Kitchen and Tap',\n",
       " '11. Steak 44',\n",
       " '12. Elements at Sanctuary Camelback Mountain',\n",
       " '13. Roka Akor - Scottsdale',\n",
       " '14. deseo',\n",
       " \"15. Eddie V's Prime Seafood\",\n",
       " \"16. Dominick's Steakhouse\",\n",
       " '17. True Food Kitchen',\n",
       " '18. Snooze an AM Eatery',\n",
       " \"19. Mastro's City Hall Steakhouse\",\n",
       " '20. Perk Eatery',\n",
       " '21. Citizen Public House',\n",
       " '22. Talavera',\n",
       " '23. Tutti Santi By Nina',\n",
       " '24. Breakfast Club',\n",
       " '25. Prado at Omni Montelucia Resort & Spa',\n",
       " '26. HIRO Sushi',\n",
       " '27. Cornish Pasty Co',\n",
       " '28. Postino Winebar',\n",
       " '29. Daily Dose',\n",
       " '30. FnB']"
      ]
     },
     "metadata": {},
     "execution_count": 66
    }
   ],
   "source": [
    "r_name = []\n",
    "for j in restaurant:\n",
    "    restaurant_name = j.find(class_ = \"_2kbTRHSI\")\n",
    "    rest_name = restaurant_name.find(class_ = \"wQjYiB7z\")\n",
    "    restaur_name = rest_name.find(class_ = \"_15_ydu6b\")\n",
    "    #print(restaur_name.get_text())\n",
    "    r_name.append(restaur_name.get_text())\n",
    "r_name"
   ]
  },
  {
   "cell_type": "code",
   "execution_count": 74,
   "metadata": {
    "tags": []
   },
   "outputs": [
    {
     "output_type": "execute_result",
     "data": {
      "text/plain": [
       "['“Fab Breakfast and Bar!”',\n",
       " '“... beef tartare, a seafood tower, beet salad, duck breast and a salmon dish.”',\n",
       " '“The food was great (try the meatballs) and the atmosphere was fantastic!”',\n",
       " \"“A simple green salad, a glass of red wine and Franco's scrumptious lasagna.”\",\n",
       " '“... accompany our great flourless chocolate cake and the best cheesecake ever.”',\n",
       " '“Known for their pancakes, but recommend the breakfast burrito!”',\n",
       " '“The coffee flight was amazing!”',\n",
       " '“Many different beers they brew, plus a wall of other craft beers give plenty...”',\n",
       " '“We had an excellent a salad followed by a absolutely delicious Sea bass entrée.”',\n",
       " '“... it was a southwestern type of salad with really fresh greens, spicy chick...”',\n",
       " '“Breakfast brunch”',\n",
       " '“Still the best burger and fries I know.”',\n",
       " '“Definitely get the beignets that are brought to you in a display of each beig...”',\n",
       " '“... to start, and then for entrees we had the pork chop and the sea bass.”',\n",
       " '“If you go and try the Omakase, be prepared for a lot of amazing food 😁”',\n",
       " '“... to try the pisco sour which took me right back to my time in Peru!”',\n",
       " '“We started with drinks, Caesar salad, Swordfish, sides and desert S’more.”',\n",
       " '“We shared side dishes and each had a salad which could have been shared also.”',\n",
       " '“Several of our family members are vegan and vegetarian so we always have to b...”',\n",
       " '“My corned beef hash was very good and my wife raved about her eggs Benedict,...”',\n",
       " '“The Salmon appetizer is a meal in itself that has the flavor police nervous!”',\n",
       " '“My husband enjoyed the French toast and my daughter loved the pancakes with s...”',\n",
       " '“The fondue board has 3-cheese fondue, pear slices, pretzel roll and sausage.”',\n",
       " '“Others had the filet, a burger, salmon.”',\n",
       " '“We split an eggplant baked in ricotta cheese with flaked spinach, smothered i...”',\n",
       " '“The Huevos Rancheros is a must have, the Green goddess is wonderful and the b...”',\n",
       " '“tasty”',\n",
       " '“Great Little Mom & Pop Sushi Restaurant”',\n",
       " '“Great authentic pasties and meatballs!”',\n",
       " '“A place to get out of the rain turned out to be a fabulous stop for happy hour!”',\n",
       " '“Finding a quality, healthy”',\n",
       " '“Our table began with a varied assortment of apps: a radish salad, an okra sid...”']"
      ]
     },
     "metadata": {},
     "execution_count": 74
    }
   ],
   "source": [
    "#r_name = []\n",
    "food_reviews = []\n",
    "for j in restaurant:\n",
    "    reviews = j.find(class_ = \"_3bvktyA3\")\n",
    "    first_review = reviews.find_next(\"div\").get_text()\n",
    "    ##r_name.append(restaur_name.get_text())\n",
    "    #print(first_review)\n",
    "    food_reviews.append(first_review)\n",
    "food_reviews\n",
    "#r_name"
   ]
  },
  {
   "cell_type": "code",
   "execution_count": 88,
   "metadata": {
    "tags": []
   },
   "outputs": [
    {
     "output_type": "execute_result",
     "data": {
      "text/plain": [
       "['American, Bar',\n",
       " 'American',\n",
       " 'American',\n",
       " 'Italian, Tuscan',\n",
       " 'American, Steakhouse',\n",
       " 'American',\n",
       " 'Cafe, American',\n",
       " 'Wine Bar, Pizza',\n",
       " 'Mediterranean',\n",
       " 'American, Bar',\n",
       " 'American, Cafe',\n",
       " 'American, Bar',\n",
       " 'Steakhouse',\n",
       " 'American, Contemporary',\n",
       " 'Japanese, Seafood',\n",
       " 'Latin, South American',\n",
       " 'American, Seafood',\n",
       " 'American, Steakhouse',\n",
       " 'American, Healthy',\n",
       " 'American, Cafe',\n",
       " 'American, Steakhouse',\n",
       " 'American, Cafe',\n",
       " 'American, Bar',\n",
       " 'Steakhouse, Spanish',\n",
       " 'Italian',\n",
       " 'American, Cafe',\n",
       " 'American, European',\n",
       " 'Japanese, Sushi',\n",
       " 'Bar, British',\n",
       " 'American, Bar',\n",
       " 'American',\n",
       " 'American']"
      ]
     },
     "metadata": {},
     "execution_count": 88
    }
   ],
   "source": [
    "#r_name = []\n",
    "restaurant_type = []\n",
    "for j in restaurant:\n",
    "    restaurant_name = j.find(class_ = \"_2rmp5aUK\")\n",
    "    #rest_name = restaurant_name.find(class_ = \"wQjYiB7z\")\n",
    "    #restaur_name = rest_name.find(class_ = \"_15_ydu6b\")\n",
    "    ##r_name.append(restaur_name.get_text())\n",
    "    ans = restaurant_name.find_next(\"div\")\n",
    "    ans_2 = ans.find(class_ = \"MIajtJFg _1cBs8huC _3d9EnJpt\")\n",
    "    ans_3 = ans_2.find(class_ = \"_1p0FLy4t\")\n",
    "    #print(ans_3.get_text())\n",
    "    restaurant_type.append(ans_3.get_text())\n",
    "restaurant_type\n",
    "#r_name"
   ]
  },
  {
   "cell_type": "code",
   "execution_count": 89,
   "metadata": {},
   "outputs": [],
   "source": [
    "dct = {\n",
    "    'Restaurant Name': r_name,\n",
    "    'Review Text': food_reviews,\n",
    "    'Type of Restaurant': restaurant_type\n",
    "}"
   ]
  },
  {
   "cell_type": "code",
   "execution_count": 90,
   "metadata": {},
   "outputs": [
    {
     "output_type": "execute_result",
     "data": {
      "text/plain": [
       "             Restaurant Name  \\\n",
       "0    ZuZu at Hotel Valley Ho   \n",
       "1            1. Cafe Monarch   \n",
       "2          2. Mowry & Cotton   \n",
       "3  3. Franco's Italian Caffe   \n",
       "4      4. The Capital Grille   \n",
       "\n",
       "                                         Review Text    Type of Restaurant  \n",
       "0                           “Fab Breakfast and Bar!”         American, Bar  \n",
       "1  “... beef tartare, a seafood tower, beet salad...              American  \n",
       "2  “The food was great (try the meatballs) and th...              American  \n",
       "3  “A simple green salad, a glass of red wine and...       Italian, Tuscan  \n",
       "4  “... accompany our great flourless chocolate c...  American, Steakhouse  "
      ],
      "text/html": "<div>\n<style scoped>\n    .dataframe tbody tr th:only-of-type {\n        vertical-align: middle;\n    }\n\n    .dataframe tbody tr th {\n        vertical-align: top;\n    }\n\n    .dataframe thead th {\n        text-align: right;\n    }\n</style>\n<table border=\"1\" class=\"dataframe\">\n  <thead>\n    <tr style=\"text-align: right;\">\n      <th></th>\n      <th>Restaurant Name</th>\n      <th>Review Text</th>\n      <th>Type of Restaurant</th>\n    </tr>\n  </thead>\n  <tbody>\n    <tr>\n      <th>0</th>\n      <td>ZuZu at Hotel Valley Ho</td>\n      <td>“Fab Breakfast and Bar!”</td>\n      <td>American, Bar</td>\n    </tr>\n    <tr>\n      <th>1</th>\n      <td>1. Cafe Monarch</td>\n      <td>“... beef tartare, a seafood tower, beet salad...</td>\n      <td>American</td>\n    </tr>\n    <tr>\n      <th>2</th>\n      <td>2. Mowry &amp; Cotton</td>\n      <td>“The food was great (try the meatballs) and th...</td>\n      <td>American</td>\n    </tr>\n    <tr>\n      <th>3</th>\n      <td>3. Franco's Italian Caffe</td>\n      <td>“A simple green salad, a glass of red wine and...</td>\n      <td>Italian, Tuscan</td>\n    </tr>\n    <tr>\n      <th>4</th>\n      <td>4. The Capital Grille</td>\n      <td>“... accompany our great flourless chocolate c...</td>\n      <td>American, Steakhouse</td>\n    </tr>\n  </tbody>\n</table>\n</div>"
     },
     "metadata": {},
     "execution_count": 90
    }
   ],
   "source": [
    "import pandas as pd\n",
    "df = pd.DataFrame(dct)\n",
    "df.head()"
   ]
  },
  {
   "cell_type": "code",
   "execution_count": 91,
   "metadata": {},
   "outputs": [],
   "source": [
    "df.to_csv(\"RestaurantReviews.csv\")"
   ]
  },
  {
   "cell_type": "code",
   "execution_count": 92,
   "metadata": {},
   "outputs": [
    {
     "output_type": "execute_result",
     "data": {
      "text/plain": [
       "'“Fab Breakfast and Bar!”'"
      ]
     },
     "metadata": {},
     "execution_count": 92
    }
   ],
   "source": [
    "df['Review Text'][0]"
   ]
  },
  {
   "cell_type": "code",
   "execution_count": 93,
   "metadata": {},
   "outputs": [
    {
     "output_type": "execute_result",
     "data": {
      "text/plain": [
       "\"“Fab Breakfast and Bar!”“... beef tartare, a seafood tower, beet salad, duck breast and a salmon dish.”“The food was great (try the meatballs) and the atmosphere was fantastic!”“A simple green salad, a glass of red wine and Franco's scrumptious lasagna.”“... accompany our great flourless chocolate cake and the best cheesecake ever.”“Known for their pancakes, but recommend the breakfast burrito!”“The coffee flight was amazing!”“Many different beers they brew, plus a wall of other craft beers give plenty...”“We had an excellent a salad followed by a absolutely delicious Sea bass entrée.”“... it was a southwestern type of salad with really fresh greens, spicy chick...”“Breakfast brunch”“Still the best burger and fries I know.”“Definitely get the beignets that are brought to you in a display of each beig...”“... to start, and then for entrees we had the pork chop and the sea bass.”“If you go and try the Omakase, be prepared for a lot of amazing food 😁”“... to try the pisco sour which took me right back to my time in Peru!”“We started with drinks, Caesar salad, Swordfish, sides and desert S’more.”“We shared side dishes and each had a salad which could have been shared also.”“Several of our family members are vegan and vegetarian so we always have to b...”“My corned beef hash was very good and my wife raved about her eggs Benedict,...”“The Salmon appetizer is a meal in itself that has the flavor police nervous!”“My husband enjoyed the French toast and my daughter loved the pancakes with s...”“The fondue board has 3-cheese fondue, pear slices, pretzel roll and sausage.”“Others had the filet, a burger, salmon.”“We split an eggplant baked in ricotta cheese with flaked spinach, smothered i...”“The Huevos Rancheros is a must have, the Green goddess is wonderful and the b...”“tasty”“Great Little Mom & Pop Sushi Restaurant”“Great authentic pasties and meatballs!”“A place to get out of the rain turned out to be a fabulous stop for happy hour!”“Finding a quality, healthy”“Our table began with a varied assortment of apps: a radish salad, an okra sid...”\""
      ]
     },
     "metadata": {},
     "execution_count": 93
    }
   ],
   "source": [
    "review_text = ''.join(df['Review Text'])\n",
    "review_text"
   ]
  },
  {
   "cell_type": "code",
   "execution_count": null,
   "metadata": {},
   "outputs": [],
   "source": []
  }
 ]
}